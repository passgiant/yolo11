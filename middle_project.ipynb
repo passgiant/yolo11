{
 "cells": [
  {
   "cell_type": "code",
   "execution_count": 2,
   "metadata": {},
   "outputs": [
    {
     "data": {
      "text/plain": [
       "'c:\\\\Users\\\\YJKIM_PC\\\\yolo11'"
      ]
     },
     "execution_count": 2,
     "metadata": {},
     "output_type": "execute_result"
    }
   ],
   "source": [
    "# 현재 위치로 HOME 변수 선언\n",
    "\n",
    "import os\n",
    "\n",
    "HOME = os.getcwd()\n",
    "HOME"
   ]
  },
  {
   "cell_type": "code",
   "execution_count": 3,
   "metadata": {},
   "outputs": [],
   "source": [
    "# org 폴더를 만든 다음 train, valid, test 경로를 지정하고 폴더 만드는 함수를 만듦\n",
    "\n",
    "org_path = os.path.join(HOME, 'org')\n",
    "\n",
    "os.makedirs(org_path, exist_ok=True)\n",
    "\n",
    "train_path = os.path.join(org_path, 'train')\n",
    "valid_path = os.path.join(org_path, 'valid')\n",
    "test_path = os.path.join(org_path, 'test')\n",
    "\n",
    "def make_folder(path1, path2):\n",
    "    new_path = os.path.join(path1, path2)\n",
    "    os.makedirs(new_path, exist_ok=True)"
   ]
  },
  {
   "cell_type": "code",
   "execution_count": 4,
   "metadata": {},
   "outputs": [],
   "source": [
    "# 리스트 2개에 경로들을 집어넣어서 for문을 돌려서 폴더 만드는 함수로 폴더를 생성\n",
    "\n",
    "path_list = [train_path, valid_path, test_path]\n",
    "i_and_l = ['images', 'labels']\n",
    "\n",
    "for path in path_list:\n",
    "    for i in i_and_l:\n",
    "        make_folder(path, i)"
   ]
  },
  {
   "cell_type": "code",
   "execution_count": 5,
   "metadata": {},
   "outputs": [],
   "source": [
    "import zipfile\n",
    "from glob import glob\n",
    "\n",
    "zips1 = glob(os.path.join(HOME, '232.재활용품 분류 및 선별 데이터/01-1.정식개방데이터/Validation/01.원천데이터/*.zip'))\n",
    "zips2 = glob(os.path.join(HOME, '232.재활용품 분류 및 선별 데이터/01-1.정식개방데이터/Validation/02.라벨링데이터/*.zip'))\n",
    "\n",
    "# for zip in zips1:\n",
    "#     print(zip)\n",
    "# for zip in zips2:\n",
    "#     print(zip)\n",
    "\n",
    "extract_to_path1 = os.path.join(HOME, '232.재활용품 분류 및 선별 데이터/01-1.정식개방데이터/Validation/01.원천데이터')\n",
    "extract_to_path2 = os.path.join(HOME, '232.재활용품 분류 및 선별 데이터/01-1.정식개방데이터/Validation/02.라벨링데이터')\n",
    "\n",
    "if zips1 != None:\n",
    "    for zip in zips1:\n",
    "        basename = os.path.basename(zip)\n",
    "        # print(basename)\n",
    "        basename = basename.split('.')[0] + '.' + basename.split('.')[1] + '.' + basename.split('.')[2] + '.' + basename.split('.')[3]\n",
    "        # print(basename)\n",
    "        extract_to_path3 = os.path.join(extract_to_path1, basename)\n",
    "        os.makedirs(extract_to_path3, exist_ok=True)\n",
    "        with zipfile.ZipFile(zip, 'r') as zip_ref:\n",
    "            zip_ref.extractall(extract_to_path3)\n",
    "        if os.path.exists(zip):\n",
    "            os.remove(zip)\n",
    "\n",
    "    for zip in zips2:\n",
    "        basename = os.path.basename(zip)\n",
    "        # print(basename)\n",
    "        basename = basename.split('.')[0] + '.' + basename.split('.')[1] + '.' + basename.split('.')[2] + '.' + basename.split('.')[3]\n",
    "        # print(basename)\n",
    "        extract_to_path4 = os.path.join(extract_to_path2, basename)\n",
    "        os.makedirs(extract_to_path4, exist_ok=True)\n",
    "        with zipfile.ZipFile(zip, 'r') as zip_ref:\n",
    "            zip_ref.extractall(extract_to_path4)\n",
    "        if os.path.exists(zip):\n",
    "            os.remove(zip)"
   ]
  },
  {
   "cell_type": "code",
   "execution_count": null,
   "metadata": {},
   "outputs": [],
   "source": [
    "zips5 = glob(os.path.join(HOME, '232.재활용품 분류 및 선별 데이터/01-1.정식개방데이터/Training/01.원천데이터/*.zip'))\n",
    "zips6 = glob(os.path.join(HOME, '232.재활용품 분류 및 선별 데이터/01-1.정식개방데이터/Training/02.라벨링데이터/*.zip'))\n",
    "\n",
    "extract_to_path5 = os.path.join(HOME, '232.재활용품 분류 및 선별 데이터/01-1.정식개방데이터/Training/01.원천데이터')\n",
    "extract_to_path6 = os.path.join(HOME, '232.재활용품 분류 및 선별 데이터/01-1.정식개방데이터/Training/02.라벨링데이터')\n",
    "\n",
    "if zips5 != None:\n",
    "    for zip in zips5:\n",
    "        basename = os.path.basename(zip)\n",
    "        # print(basename)\n",
    "        basename = basename.split('.')[0] + '.' + basename.split('.')[1] + '.' + basename.split('.')[2] + '.' + basename.split('.')[3]\n",
    "        # print(basename)\n",
    "        extract_to_path7 = os.path.join(extract_to_path5, basename)\n",
    "        os.makedirs(extract_to_path7, exist_ok=True)\n",
    "        with zipfile.ZipFile(zip, 'r') as zip_ref:\n",
    "            zip_ref.extractall(extract_to_path3)\n",
    "        if os.path.exists(zip):\n",
    "            os.remove(zip)\n",
    "\n",
    "    for zip in zips6:\n",
    "        basename = os.path.basename(zip)\n",
    "        # print(basename)\n",
    "        basename = basename.split('.')[0] + '.' + basename.split('.')[1] + '.' + basename.split('.')[2] + '.' + basename.split('.')[3]\n",
    "        # print(basename)\n",
    "        extract_to_path8 = os.path.join(extract_to_path6, basename)\n",
    "        os.makedirs(extract_to_path8, exist_ok=True)\n",
    "        with zipfile.ZipFile(zip, 'r') as zip_ref:\n",
    "            zip_ref.extractall(extract_to_path4)\n",
    "        if os.path.exists(zip):\n",
    "            os.remove(zip)"
   ]
  },
  {
   "cell_type": "code",
   "execution_count": 20,
   "metadata": {},
   "outputs": [],
   "source": [
    "import shutil\n",
    "\n",
    "image_brown_src = 'C:/Users/YJKIM_PC/yolo11/232.재활용품 분류 및 선별 데이터/01-1.정식개방데이터/Training/01.원천데이터/TS_2.직접촬영_07.유리병_001.갈색'\n",
    "image_green_src = 'C:/Users/YJKIM_PC/yolo11/232.재활용품 분류 및 선별 데이터/01-1.정식개방데이터/Training/01.원천데이터/TS_2.직접촬영_07.유리병_002.녹색'\n",
    "\n",
    "label_brown_src = 'C:/Users/YJKIM_PC/yolo11/232.재활용품 분류 및 선별 데이터/01-1.정식개방데이터/Training/02.라벨링데이터/TL_2.직접촬영_07.유리병_001.갈색'\n",
    "label_green_src = 'C:/Users/YJKIM_PC/yolo11/232.재활용품 분류 및 선별 데이터/01-1.정식개방데이터/Training/02.라벨링데이터/TL_2.직접촬영_07.유리병_002.녹색'\n",
    "\n",
    "image_brown_dst = 'C:/Users/YJKIM_PC/yolo11/232.재활용품 분류 및 선별 데이터/01-1.정식개방데이터/Validation/01.원천데이터/VS_2.직접촬영_07.유리병_001.갈색'\n",
    "image_green_dst = 'C:/Users/YJKIM_PC/yolo11/232.재활용품 분류 및 선별 데이터/01-1.정식개방데이터/Validation/01.원천데이터/VS_2.직접촬영_07.유리병_002.녹색'\n",
    "\n",
    "label_brown_dst = 'C:/Users/YJKIM_PC/yolo11/232.재활용품 분류 및 선별 데이터/01-1.정식개방데이터/Validation/02.라벨링데이터/VL_2.직접촬영_07.유리병_001.갈색'\n",
    "label_green_dst = 'C:/Users/YJKIM_PC/yolo11/232.재활용품 분류 및 선별 데이터/01-1.정식개방데이터/Validation/02.라벨링데이터/VL_2.직접촬영_07.유리병_002.녹색'\n",
    "\n",
    "image_brown_list = glob(os.path.join(image_brown_src, '**'))\n",
    "image_green_list = glob(os.path.join(image_green_src, '**'))\n",
    "\n",
    "label_brown_list = glob(os.path.join(label_brown_src, '**'))\n",
    "label_green_list = glob(os.path.join(label_green_src, '**'))\n",
    "\n",
    "shutil.copy(image_brown_list, image_brown_dst)\n",
    "shutil.copy(image_green_list, image_green_dst)\n",
    "shutil.copy(label_brown_list, label_brown_dst)\n",
    "shutil.copy(label_green_list, label_green_dst)"
   ]
  },
  {
   "cell_type": "code",
   "execution_count": 6,
   "metadata": {},
   "outputs": [],
   "source": [
    "extract_to_path1 = os.path.join(HOME, '232.재활용품 분류 및 선별 데이터/01-1.정식개방데이터/Validation/01.원천데이터')\n",
    "extract_to_path2 = os.path.join(HOME, '232.재활용품 분류 및 선별 데이터/01-1.정식개방데이터/Validation/02.라벨링데이터')"
   ]
  },
  {
   "cell_type": "code",
   "execution_count": 7,
   "metadata": {},
   "outputs": [],
   "source": [
    "import json\n",
    "\n",
    "lns = []\n",
    "\n",
    "for path in glob(os.path.join(extract_to_path2, '**')):\n",
    "    all_labels = glob(os.path.join(path, '*.json'))\n",
    "    all_labels_box = []\n",
    "    for label in all_labels:\n",
    "        # print(os.path.basename(label).split('.')[0])\n",
    "        with open(label, 'r') as file:\n",
    "            data = json.load(file)\n",
    "            if data['ANNOTATION_INFO'][0]['SHAPE_TYPE'] == 'BOX':\n",
    "                all_labels_box.append(label)\n",
    "    lns.append(all_labels_box)"
   ]
  },
  {
   "cell_type": "code",
   "execution_count": 8,
   "metadata": {},
   "outputs": [
    {
     "name": "stdout",
     "output_type": "stream",
     "text": [
      "3259\n",
      "4069\n",
      "7352\n",
      "4610\n",
      "1648\n",
      "1185\n",
      "1844\n",
      "c:\\Users\\YJKIM_PC\\yolo11\\232.재활용품 분류 및 선별 데이터/01-1.정식개방데이터/Validation/02.라벨링데이터\\VL_2.직접촬영_01.금속캔_001.철캔\\100385@1_01001_220809_P1_T1.json\n"
     ]
    }
   ],
   "source": [
    "for i in lns:\n",
    "    print(len(i))\n",
    "print(lns[0][0])"
   ]
  },
  {
   "cell_type": "code",
   "execution_count": 9,
   "metadata": {},
   "outputs": [
    {
     "name": "stdout",
     "output_type": "stream",
     "text": [
      "c:\\Users\\YJKIM_PC\\yolo11\\232.재활용품 분류 및 선별 데이터/01-1.정식개방데이터/Validation/01.원천데이터\\VS_2.직접촬영_01.금속캔_001.철캔\\100385@1_01001_220809_P1_T1.jpg\n"
     ]
    }
   ],
   "source": [
    "ins = []\n",
    "\n",
    "for path in glob(os.path.join(extract_to_path1, '**')):\n",
    "    all_images = glob(os.path.join(path, '*.jpg'))\n",
    "    ins.append(all_images)\n",
    "\n",
    "print(ins[0][0])"
   ]
  },
  {
   "cell_type": "code",
   "execution_count": 16,
   "metadata": {},
   "outputs": [
    {
     "name": "stdout",
     "output_type": "stream",
     "text": [
      "1000\n",
      "1000\n",
      "350\n",
      "350\n",
      "350\n",
      "350\n"
     ]
    }
   ],
   "source": [
    "import random\n",
    "import shutil\n",
    "\n",
    "random.seed(42)\n",
    "\n",
    "image_train_dst = os.path.join(org_path, 'train', 'images')\n",
    "label_train_dst = os.path.join(org_path, 'train', 'labels')\n",
    "\n",
    "image_valid_dst = os.path.join(org_path, 'valid', 'images')\n",
    "label_valid_dst = os.path.join(org_path, 'valid', 'labels')\n",
    "\n",
    "image_test_dst = os.path.join(org_path, 'test', 'images')\n",
    "label_test_dst = os.path.join(org_path, 'test', 'labels')\n",
    "\n",
    "def copy_file(files, dst):\n",
    "    for file in files:\n",
    "        shutil.copy(file, dst)\n",
    "\n",
    "for i, l in enumerate(lns):\n",
    "    selected_labels = random.sample(l, 1700)\n",
    "\n",
    "    train_files = selected_labels[:1000]\n",
    "    valid_files = selected_labels[1000:1350]\n",
    "    test_files = selected_labels[1350:1700]\n",
    "\n",
    "    copy_file(train_files, label_train_dst)\n",
    "    copy_file(valid_files, label_valid_dst)\n",
    "    copy_file(test_files, label_test_dst)\n",
    "\n",
    "    selected_images = []\n",
    "    for j, image in enumerate(ins):\n",
    "        if i == j:\n",
    "            for img in image:\n",
    "                for l in selected_labels:\n",
    "                    if os.path.splitext(os.path.basename(l))[0] == os.path.splitext(os.path.basename(img))[0]:\n",
    "                        selected_images.append(img)\n",
    "                        break\n",
    "\n",
    "    train_files = selected_images[:1000]\n",
    "    valid_files = selected_images[1000:1350]\n",
    "    test_files = selected_images[1350:1700]\n",
    "\n",
    "    copy_file(train_files, image_train_dst)\n",
    "    copy_file(valid_files, image_valid_dst)\n",
    "    copy_file(test_files, image_test_dst)\n",
    "    \n",
    "    break\n",
    "\n",
    "print(len(glob(os.path.join(image_train_dst, '*'))))\n",
    "print(len(glob(os.path.join(label_train_dst, '*'))))\n",
    "\n",
    "print(len(glob(os.path.join(image_valid_dst, '*'))))\n",
    "print(len(glob(os.path.join(label_valid_dst, '*'))))\n",
    "\n",
    "print(len(glob(os.path.join(image_test_dst, '*'))))\n",
    "print(len(glob(os.path.join(label_test_dst, '*'))))"
   ]
  },
  {
   "cell_type": "code",
   "execution_count": null,
   "metadata": {},
   "outputs": [],
   "source": []
  }
 ],
 "metadata": {
  "kernelspec": {
   "display_name": "yl",
   "language": "python",
   "name": "python3"
  },
  "language_info": {
   "codemirror_mode": {
    "name": "ipython",
    "version": 3
   },
   "file_extension": ".py",
   "mimetype": "text/x-python",
   "name": "python",
   "nbconvert_exporter": "python",
   "pygments_lexer": "ipython3",
   "version": "3.10.15"
  }
 },
 "nbformat": 4,
 "nbformat_minor": 2
}
