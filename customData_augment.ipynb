{
 "cells": [
  {
   "cell_type": "code",
   "execution_count": 194,
   "id": "046fb49b-a96a-4ce4-8afa-d5e58cc6d4bc",
   "metadata": {},
   "outputs": [
    {
     "data": {
      "text/plain": [
       "'C:/Users/park0/yolov11/customData/org'"
      ]
     },
     "execution_count": 194,
     "metadata": {},
     "output_type": "execute_result"
    }
   ],
   "source": [
    "import os, shutil\n",
    "HOME = 'C:/Users/park0/yolov11/customData/'\n",
    "backupPath = os.path.join(HOME, 'backup')\n",
    "\n",
    "# 기존의 폴더가 있으면 삭제 후 다시 생성\n",
    "orgDataPath =  os.path.join(HOME, 'org')\n",
    "if os.path.exists(orgDataPath):\n",
    "    shutil.rmtree(orgDataPath)\n",
    "shutil.copytree(backupPath, orgDataPath)"
   ]
  },
  {
   "cell_type": "code",
   "execution_count": null,
   "id": "f8f5b2f2-319e-4eec-97d3-e838a2de9a46",
   "metadata": {},
   "outputs": [],
   "source": []
  },
  {
   "cell_type": "markdown",
   "id": "1aba07f3-04cd-45ac-adc6-e0363c1b61ca",
   "metadata": {},
   "source": [
    "## 데이터셋 확인"
   ]
  },
  {
   "cell_type": "code",
   "execution_count": 195,
   "id": "68af2d16-fc5e-49e3-a6cc-7d757f0ceb26",
   "metadata": {},
   "outputs": [],
   "source": [
    "from glob import glob \n",
    "\n",
    "# 원본 데이터셋이 저장된 폴더\n",
    "imagefiles = glob(os.path.join(orgDataPath, '*.JPG'))\n",
    "labelfiles = glob(os.path.join(orgDataPath, '*.txt'))"
   ]
  },
  {
   "cell_type": "code",
   "execution_count": 196,
   "id": "6d84c13f-1fea-4809-a28a-12a17ca4b672",
   "metadata": {},
   "outputs": [
    {
     "name": "stdout",
     "output_type": "stream",
     "text": [
      "correct: 4/4\n"
     ]
    }
   ],
   "source": [
    "# 이미지 파일과 txt파일이 동일하게 한쌍으로 존재하는지 확인\n",
    "correct = 0\n",
    "for i in range(len(imagefiles)):\n",
    "    if imagefiles[i].split('.JPG')==labelfiles[i].split('.txt'):\n",
    "        correct +=1\n",
    "        #print(imagefiles[i], labelfiles[i])\n",
    "print(\"correct: {}/{}\".format(correct,len(imagefiles)))"
   ]
  },
  {
   "cell_type": "code",
   "execution_count": 197,
   "id": "86d133e7-59af-4701-ac86-75468e3d26d1",
   "metadata": {},
   "outputs": [],
   "source": [
    "import random\n",
    "import cv2\n",
    "from matplotlib import pyplot as plt\n",
    "import albumentations as A"
   ]
  },
  {
   "cell_type": "code",
   "execution_count": 198,
   "id": "70d58901-0e35-4ce2-a4b3-8778b37e94e2",
   "metadata": {},
   "outputs": [],
   "source": [
    "BOX_COLOR = (255, 0, 0) # Red\n",
    "TEXT_COLOR = (255, 255, 255) # White\n",
    "\n",
    "\n",
    "def visualize_bbox(img, bbox, class_name, width, height, dataType='yolo', color=BOX_COLOR, thickness=2):\n",
    "    \"\"\"Visualizes a single bounding box on the image\"\"\"\n",
    "\n",
    "    if dataType == 'coco':\n",
    "        x_min, y_min, w, h = bbox\n",
    "        \n",
    "        x_min, x_max, y_min, y_max = int(x_min), int(x_min + w), int(y_min), int(y_min + h)\n",
    "\n",
    "    elif dataType =='yolo':\n",
    "        x_center, y_center, w, h = bbox\n",
    "        # 정규화된 값 0~1사이의 값\n",
    "        # 픽셀 좌표로 변환 이미지의 width와 height값을 곱해주면 된다.\n",
    "        x_min = int((x_center - (w/2))*width)\n",
    "        x_max = int((x_center + (w/2))*width)\n",
    "        y_min = int((y_center - (h/2))*height)\n",
    "        y_max = int((y_center + (h/2))*height)\n",
    "    print(x_min, x_max, y_min,y_max)\n",
    "    cv2.rectangle(img, (x_min, y_min), (x_max, y_max), color=color, thickness=thickness)\n",
    "\n",
    "    ((text_width, text_height), _) = cv2.getTextSize(class_name, cv2.FONT_HERSHEY_SIMPLEX, 0.35, 1)\n",
    "    cv2.rectangle(img, (x_min, y_min - int(1.3 * text_height)), (x_min + text_width, y_min), BOX_COLOR, -1)\n",
    "    cv2.putText(\n",
    "        img,\n",
    "        text=class_name,\n",
    "        org=(x_min, y_min - int(0.3 * text_height)),\n",
    "        fontFace=cv2.FONT_HERSHEY_SIMPLEX,\n",
    "        fontScale=0.35,\n",
    "        color=TEXT_COLOR,\n",
    "        lineType=cv2.LINE_AA,\n",
    "    )\n",
    "    return img\n",
    "\n",
    "\n",
    "def visualize(image, bboxes, category_ids, category_id_to_name, img_width, img_height):\n",
    "    img = image.copy()\n",
    "    for bbox, category_id in zip(bboxes, category_ids):\n",
    "        class_name = category_id_to_name[category_id]\n",
    "        img = visualize_bbox(img, bbox, class_name, img_width, img_height, 'yolo')\n",
    "    plt.figure(figsize=(12, 12))\n",
    "    plt.axis('off')\n",
    "    plt.imshow(img)"
   ]
  },
  {
   "cell_type": "code",
   "execution_count": 199,
   "id": "cb89ad7d-d0b1-42ed-9d6f-14019d01dbb6",
   "metadata": {},
   "outputs": [
    {
     "data": {
      "text/plain": [
       "['C:/Users/park0/yolov11/customData/org\\\\chocoChip.JPG',\n",
       " 'C:/Users/park0/yolov11/customData/org\\\\gomet.JPG',\n",
       " 'C:/Users/park0/yolov11/customData/org\\\\potatoCookie.JPG',\n",
       " 'C:/Users/park0/yolov11/customData/org\\\\sandAce.JPG']"
      ]
     },
     "execution_count": 199,
     "metadata": {},
     "output_type": "execute_result"
    }
   ],
   "source": [
    "imagefiles"
   ]
  },
  {
   "cell_type": "code",
   "execution_count": 200,
   "id": "63192001-fd44-4939-886c-d57a8fe2758d",
   "metadata": {},
   "outputs": [],
   "source": [
    "def read_label_txt(txtFile):\n",
    "    category_ids = []\n",
    "    bboxes = []\n",
    "\n",
    "    f=open(txtFile,'r')\n",
    "\n",
    "    while True:\n",
    "        line = f.readline()\n",
    "        if not line: break\n",
    "        ids, xc, yc, w, h= line.split(' ')\n",
    "        category_ids.append(int(ids))\n",
    "        bboxes.append([float(xc),float(yc),float(w),float(h)])\n",
    "        #print(line)\n",
    "    f.close()\n",
    "    return category_ids, bboxes"
   ]
  },
  {
   "cell_type": "code",
   "execution_count": 201,
   "id": "0dd43bb6-ba83-4147-baf1-786d32706f7d",
   "metadata": {},
   "outputs": [],
   "source": [
    "def write_label_txt(txtFile, category_ids, bboxes):\n",
    "    f=open(txtFile,'w')\n",
    "\n",
    "    for i, ids in enumerate(category_ids):\n",
    "        xc,yc,w,h = bboxes[i]\n",
    "        f.write(\"{} {} {} {} {}\\n\".format(int(ids),xc,yc,w,h))\n",
    "        #print(\"{} {}\".format(int(ids), bboxes[i]))\n",
    "    f.close()"
   ]
  },
  {
   "cell_type": "code",
   "execution_count": 202,
   "id": "7293566e-f74f-40e1-a3de-0d8ed304a1ad",
   "metadata": {},
   "outputs": [],
   "source": [
    "category_id_to_name = {0: 'chocoChip', 1: 'gomet', 2: 'potatoCookie', 3: 'sandAce'}"
   ]
  },
  {
   "cell_type": "markdown",
   "id": "81f3b765-98ba-4196-affd-7d0bb4b76e5e",
   "metadata": {},
   "source": [
    "### 원본 이미지를 축소"
   ]
  },
  {
   "cell_type": "code",
   "execution_count": 203,
   "id": "60473bae-0cd3-418a-8b0f-5b3ed747923c",
   "metadata": {},
   "outputs": [],
   "source": [
    "transform_resize = A.Compose(\n",
    "    [A.LongestMaxSize(max_size=800, interpolation=cv2.INTER_LINEAR),],\n",
    "    bbox_params=A.BboxParams(format='yolo', label_fields=['category_ids']),\n",
    ")"
   ]
  },
  {
   "cell_type": "markdown",
   "id": "cb6d51dc-182e-4638-8e6e-6d8d6ef83746",
   "metadata": {},
   "source": [
    "### 원본 이미지 좌우 대칭"
   ]
  },
  {
   "cell_type": "code",
   "execution_count": 204,
   "id": "e94216be-7a23-4b23-ad10-825c40b1da70",
   "metadata": {},
   "outputs": [],
   "source": [
    "transform_hflip = A.Compose(\n",
    "    [A.HorizontalFlip(p=1.0)],\n",
    "    bbox_params=A.BboxParams(format='yolo', label_fields=['category_ids']),\n",
    ")"
   ]
  },
  {
   "cell_type": "code",
   "execution_count": 205,
   "id": "b26a457c-5867-4c74-bd1e-d31fdfa14cf5",
   "metadata": {},
   "outputs": [],
   "source": [
    "transform_hsv = A.HueSaturationValue(\n",
    "    hue_shift_limit=(-5,5),\n",
    "    sat_shift_limit=(20,20),\n",
    "    val_shift_limit=(30,30),\n",
    "    p=0.7\n",
    ")"
   ]
  },
  {
   "cell_type": "code",
   "execution_count": 206,
   "id": "3aedd31c-9b83-46c1-a9e8-a9ebe7b74b92",
   "metadata": {},
   "outputs": [],
   "source": [
    "transform_shift = A.Compose(\n",
    "    [A.ShiftScaleRotate(shift_limit=(-0.2, 0.2), scale_limit=(0, 0), rotate_limit=(0, 0),p=1.0)],\n",
    "    bbox_params=A.BboxParams(format='coco', min_area=1024, min_visibility=0.2, label_fields=['category_ids']),\n",
    ")"
   ]
  },
  {
   "cell_type": "code",
   "execution_count": 207,
   "id": "1512ef6a-475b-4c9e-b052-0da5eaa8199f",
   "metadata": {},
   "outputs": [],
   "source": [
    "transform_scale = A.Compose(\n",
    "    [A.ShiftScaleRotate(shift_limit=(0, 0), scale_limit=(-0.2, 0.2), rotate_limit=(0, 0),p=1.0)],\n",
    "    bbox_params=A.BboxParams(format='coco', min_area=1024, min_visibility=0.2, label_fields=['category_ids']),\n",
    ")"
   ]
  },
  {
   "cell_type": "code",
   "execution_count": null,
   "id": "88ff1bf8-5e1e-4723-93cc-7d3d0aa644bc",
   "metadata": {},
   "outputs": [],
   "source": []
  },
  {
   "cell_type": "code",
   "execution_count": 208,
   "id": "7e69e0c1-7279-47c8-bad8-ca7126d7a0e5",
   "metadata": {},
   "outputs": [],
   "source": [
    "DEBUG = False\n",
    "\n",
    "def dataAug(func, imagefiles):\n",
    "    for imagefile in imagefiles:\n",
    "        image = cv2.imread(imagefile)\n",
    "        image = cv2.cvtColor(image, cv2.COLOR_BGR2RGB)\n",
    "        img_height, img_width = image.shape[0:2]\n",
    "    \n",
    "        # txt파일은 이미지 파일에서 확장자만 다르다!\n",
    "        baseName = imagefile.split('.')[0]\n",
    "        txtFile = baseName+'.txt'\n",
    "        category_ids, bboxes = read_label_txt(txtFile)\n",
    "        \n",
    "        if func=='hflip':\n",
    "            transformed = transform_hflip(image=image, bboxes=bboxes, category_ids=category_ids)\n",
    "            saveImageName = baseName + '_hflip.JPG'  \n",
    "            saveLabelName = baseName + '_hflip.txt'\n",
    "            saveImage = cv2.cvtColor(transformed['image'], cv2.COLOR_RGB2BGR)\n",
    "            cv2.imwrite(saveImageName, saveImage)\n",
    "            write_label_txt(saveLabelName, transformed['category_ids'], transformed['bboxes'])            \n",
    "        elif func=='rotate':\n",
    "            angle_inter = 20\n",
    "            for angle in range(angle_inter,360,angle_inter):\n",
    "                transform_rotate = A.Compose(\n",
    "                    [A.Rotate(limit=(angle,angle), rotate_method='ellipse', p=1.0)],\n",
    "                    bbox_params=A.BboxParams(format='yolo', label_fields=['category_ids'])\n",
    "                )\n",
    "                transformed = transform_rotate(image=image, bboxes=bboxes, category_ids=category_ids)\n",
    "                saveImageName = baseName + '_rotate_{}.JPG'.format(angle)  \n",
    "                saveLabelName = baseName + '_rotate_{}.txt'.format(angle)  \n",
    "                saveImage = cv2.cvtColor(transformed['image'], cv2.COLOR_RGB2BGR)\n",
    "                cv2.imwrite(saveImageName, saveImage)\n",
    "                write_label_txt(saveLabelName, transformed['category_ids'], transformed['bboxes'])\n",
    "        elif func=='resize':\n",
    "            transformed = transform_resize(image=image, bboxes=bboxes, category_ids=category_ids)\n",
    "            saveImageName = baseName + '.JPG'  \n",
    "            saveLabelName = baseName + '.txt'            \n",
    "            saveImage = cv2.cvtColor(transformed['image'], cv2.COLOR_RGB2BGR)\n",
    "            cv2.imwrite(saveImageName, saveImage)\n",
    "            write_label_txt(saveLabelName, transformed['category_ids'], transformed['bboxes'])\n",
    "        elif func=='hsv':\n",
    "            transformed = transform_hsv(image=image, bboxes=bboxes, category_ids=category_ids)\n",
    "            saveImageName = baseName + '_hsv.JPG'  \n",
    "            saveLabelName = baseName + '_hsv.txt'\n",
    "            saveImage = cv2.cvtColor(transformed['image'], cv2.COLOR_RGB2BGR)\n",
    "            cv2.imwrite(saveImageName, saveImage)\n",
    "            write_label_txt(saveLabelName, transformed['category_ids'], transformed['bboxes'])  \n",
    "        elif func=='shift':\n",
    "            transformed = transform_shift(image=image, bboxes=bboxes, category_ids=category_ids)\n",
    "            saveImageName = baseName + '_shift.JPG'  \n",
    "            saveLabelName = baseName + '_shift.txt'\n",
    "            saveImage = cv2.cvtColor(transformed['image'], cv2.COLOR_RGB2BGR)\n",
    "            cv2.imwrite(saveImageName, saveImage)\n",
    "            write_label_txt(saveLabelName, transformed['category_ids'], transformed['bboxes'])\n",
    "        elif func=='scale':\n",
    "            transformed = transform_scale(image=image, bboxes=bboxes, category_ids=category_ids)\n",
    "            saveImageName = baseName + '_scale.JPG'  \n",
    "            saveLabelName = baseName + '_scale.txt'\n",
    "            saveImage = cv2.cvtColor(transformed['image'], cv2.COLOR_RGB2BGR)\n",
    "            cv2.imwrite(saveImageName, saveImage)\n",
    "            write_label_txt(saveLabelName, transformed['category_ids'], transformed['bboxes'])             \n",
    "            \n",
    "        if DEBUG==True:\n",
    "            visualize(\n",
    "                transformed['image'],\n",
    "                transformed['bboxes'],\n",
    "                transformed['category_ids'],\n",
    "                category_id_to_name,\n",
    "                img_width, img_height\n",
    "            )\n",
    "            break"
   ]
  },
  {
   "cell_type": "code",
   "execution_count": 209,
   "id": "13e05932-e850-4e27-91c3-d5271b08914f",
   "metadata": {
    "scrolled": true
   },
   "outputs": [],
   "source": [
    "dataAug('resize', imagefiles)\n",
    "dataAug('hflip', imagefiles)\n",
    "dataAug('rotate', imagefiles)"
   ]
  },
  {
   "cell_type": "code",
   "execution_count": 210,
   "id": "96b3a9d2-aab1-4f45-9f18-667d02e0ea28",
   "metadata": {},
   "outputs": [],
   "source": [
    "imagefiles2 = glob(os.path.join(orgDataPath, '*.JPG'))\n",
    "dataAug('hsv', imagefiles2)\n",
    "\n",
    "imagefiles3 = glob(os.path.join(orgDataPath, '*.JPG'))\n",
    "dataAug('shift', imagefiles3)\n",
    "\n",
    "imagefiles4 = glob(os.path.join(orgDataPath, '*.JPG'))\n",
    "dataAug('scale', imagefiles4)"
   ]
  },
  {
   "cell_type": "markdown",
   "id": "9b679e0b-582d-4ef6-9962-bf94f7b24cbb",
   "metadata": {},
   "source": [
    "### org폴더의 파일들을 train, valid, test로 나누어서 복사한다. 비율 ( 7 : 1.5 : 1.5 )"
   ]
  },
  {
   "cell_type": "code",
   "execution_count": 211,
   "id": "bdea3ea1-91ec-48f2-8ed6-f72498b93da6",
   "metadata": {},
   "outputs": [
    {
     "data": {
      "text/plain": [
       "(608, 608)"
      ]
     },
     "execution_count": 211,
     "metadata": {},
     "output_type": "execute_result"
    }
   ],
   "source": [
    "allImages = glob(os.path.join(orgDataPath, '*.JPG'))\n",
    "allLabels = glob(os.path.join(orgDataPath, '*.txt'))\n",
    "len(allImages), len(allLabels)"
   ]
  },
  {
   "cell_type": "code",
   "execution_count": 212,
   "id": "cdfadef8-ee5b-4efd-bcf8-77ffdf28351c",
   "metadata": {},
   "outputs": [
    {
     "data": {
      "text/plain": [
       "(425, 91, 91, 608)"
      ]
     },
     "execution_count": 212,
     "metadata": {},
     "output_type": "execute_result"
    }
   ],
   "source": [
    "totalCount = len(allImages)\n",
    "\n",
    "train_ratio = 0.7\n",
    "valid_ratio = 0.15\n",
    "test_ratio  = 0.15\n",
    "\n",
    "train_size = int(totalCount * train_ratio)\n",
    "valid_size = int(totalCount * valid_ratio)\n",
    "test_size  = int(totalCount * test_ratio)+1\n",
    "trainCount, validCount, testCount, len(allImages)"
   ]
  },
  {
   "cell_type": "markdown",
   "id": "c65b01a3-eec3-4ecd-8102-174077da35fd",
   "metadata": {},
   "source": [
    "### 데이터셋 나기기"
   ]
  },
  {
   "cell_type": "code",
   "execution_count": 228,
   "id": "9ee3b924-72be-4473-b142-ec929aee5ff8",
   "metadata": {},
   "outputs": [],
   "source": [
    "from torch.utils.data import random_split\n",
    "train_dataset, valid_dataset, test_dataset = random_split(allImages, [train_size, valid_size, test_size])"
   ]
  },
  {
   "cell_type": "code",
   "execution_count": 229,
   "id": "ed00178a-1abd-49f4-9b37-2e13249dcdcf",
   "metadata": {},
   "outputs": [
    {
     "data": {
      "text/plain": [
       "'C:/Users/park0/yolov11/customData/org\\\\sandAce_rotate_140_shift.JPG'"
      ]
     },
     "execution_count": 229,
     "metadata": {},
     "output_type": "execute_result"
    }
   ],
   "source": [
    "train_dataset[0]"
   ]
  },
  {
   "cell_type": "code",
   "execution_count": 230,
   "id": "1f8507e2-6641-4b0b-aee4-3a3bb58d62eb",
   "metadata": {},
   "outputs": [],
   "source": [
    "# 폴더 생성\n",
    "main_dirs = ['train','valid','test'] \n",
    "sub_dirs  = ['images', 'labels']\n",
    "\n",
    "for main_dir in main_dirs:\n",
    "    for sub_dir in sub_dirs:\n",
    "        dirname = os.path.join(HOME, main_dir, sub_dir)\n",
    "        os.makedirs(dirname, exist_ok=True)\n",
    "\n",
    "        if main_dir=='train' and sub_dir=='images':\n",
    "            for srcPath in train_dataset:\n",
    "                basename = os.path.basename(srcPath)\n",
    "                dstPath = os.path.join(dirname,basename)\n",
    "                shutil.copy(srcPath, dstPath)\n",
    "        elif main_dir=='train' and sub_dir=='labels':\n",
    "            for srcPath in train_dataset:\n",
    "                basename = os.path.basename(srcPath).split('.')[0] + '.txt'\n",
    "                srcPath = os.path.join(orgDataPath,basename)\n",
    "                dstPath = os.path.join(dirname,basename)\n",
    "                shutil.copy(srcPath, dstPath)\n",
    "        elif main_dir=='valid' and sub_dir=='images':\n",
    "            for srcPath in valid_dataset:\n",
    "                basename = os.path.basename(srcPath)\n",
    "                dstPath = os.path.join(dirname,basename)\n",
    "                shutil.copy(srcPath, dstPath)\n",
    "        elif main_dir=='valid' and sub_dir=='labels':\n",
    "            for srcPath in valid_dataset:\n",
    "                basename = os.path.basename(srcPath).split('.')[0] + '.txt'\n",
    "                srcPath = os.path.join(orgDataPath,basename)\n",
    "                dstPath = os.path.join(dirname,basename)\n",
    "                shutil.copy(srcPath, dstPath)\n",
    "        elif main_dir=='test' and sub_dir=='images':\n",
    "            for srcPath in test_dataset:\n",
    "                basename = os.path.basename(srcPath)\n",
    "                dstPath = os.path.join(dirname,basename)\n",
    "                shutil.copy(srcPath, dstPath)\n",
    "        elif main_dir=='test' and sub_dir=='labels':\n",
    "            for srcPath in test_dataset:\n",
    "                basename = os.path.basename(srcPath).split('.')[0] + '.txt'\n",
    "                srcPath = os.path.join(orgDataPath,basename)\n",
    "                dstPath = os.path.join(dirname,basename)\n",
    "                shutil.copy(srcPath, dstPath)  "
   ]
  },
  {
   "cell_type": "code",
   "execution_count": 232,
   "id": "42504917-0446-455d-aa2c-f384e356cc6d",
   "metadata": {},
   "outputs": [],
   "source": [
    "#!yolo train model=yolo11n.pt data=C:/Users/park0/yolov11/customData/data.yaml epochs=50"
   ]
  },
  {
   "cell_type": "code",
   "execution_count": 234,
   "id": "e793aebd-cd11-4cf4-b752-3683800b1cdb",
   "metadata": {},
   "outputs": [
    {
     "name": "stdout",
     "output_type": "stream",
     "text": [
      "New https://pypi.org/project/ultralytics/8.3.9 available  Update with 'pip install -U ultralytics'\n",
      "Ultralytics 8.3.6  Python-3.10.15 torch-2.4.1 CUDA:0 (NVIDIA GeForce RTX 3070 Laptop GPU, 8192MiB)\n",
      "\u001b[34m\u001b[1mengine\\trainer: \u001b[0mtask=detect, mode=train, model=yolo11n.pt, data=C:/Users/park0/yolov11/customData/data.yaml, epochs=100, time=None, patience=100, batch=16, imgsz=640, save=True, save_period=-1, cache=False, device=None, workers=8, project=None, name=train3, exist_ok=False, pretrained=True, optimizer=auto, verbose=True, seed=0, deterministic=True, single_cls=False, rect=False, cos_lr=False, close_mosaic=10, resume=False, amp=True, fraction=1.0, profile=False, freeze=None, multi_scale=False, overlap_mask=True, mask_ratio=4, dropout=0.0, val=True, split=val, save_json=False, save_hybrid=False, conf=None, iou=0.7, max_det=300, half=False, dnn=False, plots=True, source=None, vid_stride=1, stream_buffer=False, visualize=False, augment=False, agnostic_nms=False, classes=None, retina_masks=False, embed=None, show=False, save_frames=False, save_txt=False, save_conf=False, save_crop=False, show_labels=True, show_conf=True, show_boxes=True, line_width=None, format=torchscript, keras=False, optimize=False, int8=False, dynamic=False, simplify=True, opset=None, workspace=4, nms=False, lr0=0.01, lrf=0.01, momentum=0.937, weight_decay=0.0005, warmup_epochs=3.0, warmup_momentum=0.8, warmup_bias_lr=0.1, box=7.5, cls=0.5, dfl=1.5, pose=12.0, kobj=1.0, label_smoothing=0.0, nbs=64, hsv_h=0.015, hsv_s=0.7, hsv_v=0.4, degrees=0.0, translate=0.1, scale=0.5, shear=0.0, perspective=0.0, flipud=0.0, fliplr=0.5, bgr=0.0, mosaic=1.0, mixup=0.0, copy_paste=0.0, copy_paste_mode=flip, auto_augment=randaugment, erasing=0.4, crop_fraction=1.0, cfg=None, tracker=botsort.yaml, save_dir=runs\\detect\\train3\n",
      "Overriding model.yaml nc=80 with nc=4\n",
      "\n",
      "                   from  n    params  module                                       arguments                     \n",
      "  0                  -1  1       464  ultralytics.nn.modules.conv.Conv             [3, 16, 3, 2]                 \n",
      "  1                  -1  1      4672  ultralytics.nn.modules.conv.Conv             [16, 32, 3, 2]                \n",
      "  2                  -1  1      6640  ultralytics.nn.modules.block.C3k2            [32, 64, 1, False, 0.25]      \n",
      "  3                  -1  1     36992  ultralytics.nn.modules.conv.Conv             [64, 64, 3, 2]                \n",
      "  4                  -1  1     26080  ultralytics.nn.modules.block.C3k2            [64, 128, 1, False, 0.25]     \n",
      "  5                  -1  1    147712  ultralytics.nn.modules.conv.Conv             [128, 128, 3, 2]              \n",
      "  6                  -1  1     87040  ultralytics.nn.modules.block.C3k2            [128, 128, 1, True]           \n",
      "  7                  -1  1    295424  ultralytics.nn.modules.conv.Conv             [128, 256, 3, 2]              \n",
      "  8                  -1  1    346112  ultralytics.nn.modules.block.C3k2            [256, 256, 1, True]           \n",
      "  9                  -1  1    164608  ultralytics.nn.modules.block.SPPF            [256, 256, 5]                 \n",
      " 10                  -1  1    249728  ultralytics.nn.modules.block.C2PSA           [256, 256, 1]                 \n",
      " 11                  -1  1         0  torch.nn.modules.upsampling.Upsample         [None, 2, 'nearest']          \n",
      " 12             [-1, 6]  1         0  ultralytics.nn.modules.conv.Concat           [1]                           \n",
      " 13                  -1  1    111296  ultralytics.nn.modules.block.C3k2            [384, 128, 1, False]          \n",
      " 14                  -1  1         0  torch.nn.modules.upsampling.Upsample         [None, 2, 'nearest']          \n",
      " 15             [-1, 4]  1         0  ultralytics.nn.modules.conv.Concat           [1]                           \n",
      " 16                  -1  1     32096  ultralytics.nn.modules.block.C3k2            [256, 64, 1, False]           \n",
      " 17                  -1  1     36992  ultralytics.nn.modules.conv.Conv             [64, 64, 3, 2]                \n",
      " 18            [-1, 13]  1         0  ultralytics.nn.modules.conv.Concat           [1]                           \n",
      " 19                  -1  1     86720  ultralytics.nn.modules.block.C3k2            [192, 128, 1, False]          \n",
      " 20                  -1  1    147712  ultralytics.nn.modules.conv.Conv             [128, 128, 3, 2]              \n",
      " 21            [-1, 10]  1         0  ultralytics.nn.modules.conv.Concat           [1]                           \n",
      " 22                  -1  1    378880  ultralytics.nn.modules.block.C3k2            [384, 256, 1, True]           \n",
      " 23        [16, 19, 22]  1    431452  ultralytics.nn.modules.head.Detect           [4, [64, 128, 256]]           \n",
      "YOLO11n summary: 319 layers, 2,590,620 parameters, 2,590,604 gradients, 6.4 GFLOPs\n",
      "\n",
      "Transferred 448/499 items from pretrained weights\n",
      "Freezing layer 'model.23.dfl.conv.weight'\n",
      "\u001b[34m\u001b[1mAMP: \u001b[0mrunning Automatic Mixed Precision (AMP) checks with YOLO11n...\n",
      "\u001b[34m\u001b[1mAMP: \u001b[0mchecks passed \n"
     ]
    },
    {
     "name": "stderr",
     "output_type": "stream",
     "text": [
      "\u001b[34m\u001b[1mtrain: \u001b[0mScanning C:\\Users\\park0\\yolov11\\customData\\train\\labels... 425 images, 317 backgrounds, 0 corr\u001b[0m\n"
     ]
    },
    {
     "name": "stdout",
     "output_type": "stream",
     "text": [
      "\u001b[34m\u001b[1mtrain: \u001b[0mNew cache created: C:\\Users\\park0\\yolov11\\customData\\train\\labels.cache\n",
      "\u001b[34m\u001b[1malbumentations: \u001b[0mBlur(p=0.01, blur_limit=(3, 7)), MedianBlur(p=0.01, blur_limit=(3, 7)), ToGray(p=0.01, num_output_channels=3, method='weighted_average'), CLAHE(p=0.01, clip_limit=(1.0, 4.0), tile_grid_size=(8, 8))\n"
     ]
    },
    {
     "name": "stderr",
     "output_type": "stream",
     "text": [
      "\u001b[34m\u001b[1mval: \u001b[0mScanning C:\\Users\\park0\\yolov11\\customData\\valid\\labels... 91 images, 67 backgrounds, 0 corrupt:\u001b[0m"
     ]
    },
    {
     "name": "stdout",
     "output_type": "stream",
     "text": [
      "\u001b[34m\u001b[1mval: \u001b[0mNew cache created: C:\\Users\\park0\\yolov11\\customData\\valid\\labels.cache\n"
     ]
    },
    {
     "name": "stderr",
     "output_type": "stream",
     "text": [
      "\n"
     ]
    },
    {
     "name": "stdout",
     "output_type": "stream",
     "text": [
      "Plotting labels to runs\\detect\\train3\\labels.jpg... \n",
      "\u001b[34m\u001b[1moptimizer:\u001b[0m 'optimizer=auto' found, ignoring 'lr0=0.01' and 'momentum=0.937' and determining best 'optimizer', 'lr0' and 'momentum' automatically... \n",
      "\u001b[34m\u001b[1moptimizer:\u001b[0m AdamW(lr=0.00125, momentum=0.9) with parameter groups 81 weight(decay=0.0), 88 weight(decay=0.0005), 87 bias(decay=0.0)\n",
      "Image sizes 640 train, 640 val\n",
      "Using 8 dataloader workers\n",
      "Logging results to \u001b[1mruns\\detect\\train3\u001b[0m\n",
      "Starting training for 100 epochs...\n",
      "\n",
      "      Epoch    GPU_mem   box_loss   cls_loss   dfl_loss  Instances       Size\n"
     ]
    },
    {
     "name": "stderr",
     "output_type": "stream",
     "text": [
      "      1/100      2.47G      1.523      6.752      1.446          4        640: 100%|██████████| 27/27\n",
      "                 Class     Images  Instances      Box(P          R      mAP50  mAP50-95): 100%|██████"
     ]
    },
    {
     "name": "stdout",
     "output_type": "stream",
     "text": [
      "                   all         91         24    0.00114          1      0.135     0.0892\n"
     ]
    },
    {
     "name": "stderr",
     "output_type": "stream",
     "text": [
      "\n"
     ]
    },
    {
     "name": "stdout",
     "output_type": "stream",
     "text": [
      "\n",
      "      Epoch    GPU_mem   box_loss   cls_loss   dfl_loss  Instances       Size\n"
     ]
    },
    {
     "name": "stderr",
     "output_type": "stream",
     "text": [
      "      2/100      2.37G      1.195      6.281      1.186          4        640: 100%|██████████| 27/27\n",
      "                 Class     Images  Instances      Box(P          R      mAP50  mAP50-95): 100%|██████\n"
     ]
    },
    {
     "name": "stdout",
     "output_type": "stream",
     "text": [
      "                   all         91         24   0.000868          1      0.261      0.143\n",
      "\n",
      "      Epoch    GPU_mem   box_loss   cls_loss   dfl_loss  Instances       Size\n"
     ]
    },
    {
     "name": "stderr",
     "output_type": "stream",
     "text": [
      "      3/100      2.38G      1.168      5.014      1.162          5        640: 100%|██████████| 27/27\n",
      "                 Class     Images  Instances      Box(P          R      mAP50  mAP50-95): 100%|██████\n"
     ]
    },
    {
     "name": "stdout",
     "output_type": "stream",
     "text": [
      "                   all         91         24      0.859      0.143      0.233      0.167\n",
      "\n",
      "      Epoch    GPU_mem   box_loss   cls_loss   dfl_loss  Instances       Size\n"
     ]
    },
    {
     "name": "stderr",
     "output_type": "stream",
     "text": [
      "      4/100      2.38G      1.187      4.706      1.136          5        640: 100%|██████████| 27/27\n",
      "                 Class     Images  Instances      Box(P          R      mAP50  mAP50-95): 100%|██████"
     ]
    },
    {
     "name": "stdout",
     "output_type": "stream",
     "text": [
      "                   all         91         24      0.164      0.574      0.187      0.119\n"
     ]
    },
    {
     "name": "stderr",
     "output_type": "stream",
     "text": [
      "\n"
     ]
    },
    {
     "name": "stdout",
     "output_type": "stream",
     "text": [
      "\n",
      "      Epoch    GPU_mem   box_loss   cls_loss   dfl_loss  Instances       Size\n"
     ]
    },
    {
     "name": "stderr",
     "output_type": "stream",
     "text": [
      "      5/100      2.39G       1.09      4.342      1.084          7        640: 100%|██████████| 27/27\n",
      "                 Class     Images  Instances      Box(P          R      mAP50  mAP50-95): 100%|██████"
     ]
    },
    {
     "name": "stdout",
     "output_type": "stream",
     "text": [
      "                   all         91         24      0.708      0.369      0.301      0.229\n"
     ]
    },
    {
     "name": "stderr",
     "output_type": "stream",
     "text": [
      "\n"
     ]
    },
    {
     "name": "stdout",
     "output_type": "stream",
     "text": [
      "\n",
      "      Epoch    GPU_mem   box_loss   cls_loss   dfl_loss  Instances       Size\n"
     ]
    },
    {
     "name": "stderr",
     "output_type": "stream",
     "text": [
      "      6/100      2.38G      1.049      5.417      1.126          0        640: 100%|██████████| 27/27\n",
      "                 Class     Images  Instances      Box(P          R      mAP50  mAP50-95): 100%|██████"
     ]
    },
    {
     "name": "stdout",
     "output_type": "stream",
     "text": [
      "                   all         91         24      0.359      0.583      0.289      0.189\n"
     ]
    },
    {
     "name": "stderr",
     "output_type": "stream",
     "text": [
      "\n"
     ]
    },
    {
     "name": "stdout",
     "output_type": "stream",
     "text": [
      "\n",
      "      Epoch    GPU_mem   box_loss   cls_loss   dfl_loss  Instances       Size\n"
     ]
    },
    {
     "name": "stderr",
     "output_type": "stream",
     "text": [
      "      7/100      2.38G      1.121      4.137      1.144          6        640: 100%|██████████| 27/27\n",
      "                 Class     Images  Instances      Box(P          R      mAP50  mAP50-95): 100%|██████"
     ]
    },
    {
     "name": "stdout",
     "output_type": "stream",
     "text": [
      "                   all         91         24      0.272      0.536      0.405      0.265\n"
     ]
    },
    {
     "name": "stderr",
     "output_type": "stream",
     "text": [
      "\n"
     ]
    },
    {
     "name": "stdout",
     "output_type": "stream",
     "text": [
      "\n",
      "      Epoch    GPU_mem   box_loss   cls_loss   dfl_loss  Instances       Size\n"
     ]
    },
    {
     "name": "stderr",
     "output_type": "stream",
     "text": [
      "      8/100      2.39G      1.098       3.35      1.096          2        640: 100%|██████████| 27/27\n",
      "                 Class     Images  Instances      Box(P          R      mAP50  mAP50-95): 100%|██████"
     ]
    },
    {
     "name": "stdout",
     "output_type": "stream",
     "text": [
      "                   all         91         24      0.176      0.583      0.329       0.24\n"
     ]
    },
    {
     "name": "stderr",
     "output_type": "stream",
     "text": [
      "\n"
     ]
    },
    {
     "name": "stdout",
     "output_type": "stream",
     "text": [
      "\n",
      "      Epoch    GPU_mem   box_loss   cls_loss   dfl_loss  Instances       Size\n"
     ]
    },
    {
     "name": "stderr",
     "output_type": "stream",
     "text": [
      "      9/100      2.38G      1.076      3.079      1.136          4        640: 100%|██████████| 27/27\n",
      "                 Class     Images  Instances      Box(P          R      mAP50  mAP50-95): 100%|██████"
     ]
    },
    {
     "name": "stdout",
     "output_type": "stream",
     "text": [
      "                   all         91         24      0.244      0.765      0.342      0.273\n"
     ]
    },
    {
     "name": "stderr",
     "output_type": "stream",
     "text": [
      "\n"
     ]
    },
    {
     "name": "stdout",
     "output_type": "stream",
     "text": [
      "\n",
      "      Epoch    GPU_mem   box_loss   cls_loss   dfl_loss  Instances       Size\n"
     ]
    },
    {
     "name": "stderr",
     "output_type": "stream",
     "text": [
      "     10/100      2.38G      1.062      3.189      1.111          3        640: 100%|██████████| 27/27\n",
      "                 Class     Images  Instances      Box(P          R      mAP50  mAP50-95): 100%|██████"
     ]
    },
    {
     "name": "stdout",
     "output_type": "stream",
     "text": [
      "                   all         91         24      0.622        0.5      0.209      0.163\n"
     ]
    },
    {
     "name": "stderr",
     "output_type": "stream",
     "text": [
      "\n"
     ]
    },
    {
     "name": "stdout",
     "output_type": "stream",
     "text": [
      "\n",
      "      Epoch    GPU_mem   box_loss   cls_loss   dfl_loss  Instances       Size\n"
     ]
    },
    {
     "name": "stderr",
     "output_type": "stream",
     "text": [
      "     11/100      2.38G      1.051      2.629      1.083          6        640: 100%|██████████| 27/27\n",
      "                 Class     Images  Instances      Box(P          R      mAP50  mAP50-95): 100%|██████"
     ]
    },
    {
     "name": "stdout",
     "output_type": "stream",
     "text": [
      "                   all         91         24      0.212      0.758      0.317      0.256\n"
     ]
    },
    {
     "name": "stderr",
     "output_type": "stream",
     "text": [
      "\n"
     ]
    },
    {
     "name": "stdout",
     "output_type": "stream",
     "text": [
      "\n",
      "      Epoch    GPU_mem   box_loss   cls_loss   dfl_loss  Instances       Size\n"
     ]
    },
    {
     "name": "stderr",
     "output_type": "stream",
     "text": [
      "     12/100      2.39G     0.9193      2.496      1.022          6        640: 100%|██████████| 27/27\n",
      "                 Class     Images  Instances      Box(P          R      mAP50  mAP50-95): 100%|██████"
     ]
    },
    {
     "name": "stdout",
     "output_type": "stream",
     "text": [
      "                   all         91         24      0.165      0.588      0.239      0.191\n"
     ]
    },
    {
     "name": "stderr",
     "output_type": "stream",
     "text": [
      "\n"
     ]
    },
    {
     "name": "stdout",
     "output_type": "stream",
     "text": [
      "\n",
      "      Epoch    GPU_mem   box_loss   cls_loss   dfl_loss  Instances       Size\n"
     ]
    },
    {
     "name": "stderr",
     "output_type": "stream",
     "text": [
      "     13/100      2.38G     0.9057      2.604      1.023          7        640: 100%|██████████| 27/27\n",
      "                 Class     Images  Instances      Box(P          R      mAP50  mAP50-95): 100%|██████"
     ]
    },
    {
     "name": "stdout",
     "output_type": "stream",
     "text": [
      "                   all         91         24      0.309      0.924      0.374      0.301\n"
     ]
    },
    {
     "name": "stderr",
     "output_type": "stream",
     "text": [
      "\n"
     ]
    },
    {
     "name": "stdout",
     "output_type": "stream",
     "text": [
      "\n",
      "      Epoch    GPU_mem   box_loss   cls_loss   dfl_loss  Instances       Size\n"
     ]
    },
    {
     "name": "stderr",
     "output_type": "stream",
     "text": [
      "     14/100      2.38G      0.945       2.48      1.057          7        640: 100%|██████████| 27/27\n",
      "                 Class     Images  Instances      Box(P          R      mAP50  mAP50-95): 100%|██████"
     ]
    },
    {
     "name": "stdout",
     "output_type": "stream",
     "text": [
      "                   all         91         24      0.245      0.964       0.48      0.415\n"
     ]
    },
    {
     "name": "stderr",
     "output_type": "stream",
     "text": [
      "\n"
     ]
    },
    {
     "name": "stdout",
     "output_type": "stream",
     "text": [
      "\n",
      "      Epoch    GPU_mem   box_loss   cls_loss   dfl_loss  Instances       Size\n"
     ]
    },
    {
     "name": "stderr",
     "output_type": "stream",
     "text": [
      "     15/100      2.37G     0.9216      2.476      1.027          4        640: 100%|██████████| 27/27\n",
      "                 Class     Images  Instances      Box(P          R      mAP50  mAP50-95): 100%|██████"
     ]
    },
    {
     "name": "stdout",
     "output_type": "stream",
     "text": [
      "                   all         91         24      0.249      0.938      0.335      0.283\n"
     ]
    },
    {
     "name": "stderr",
     "output_type": "stream",
     "text": [
      "\n"
     ]
    },
    {
     "name": "stdout",
     "output_type": "stream",
     "text": [
      "\n",
      "      Epoch    GPU_mem   box_loss   cls_loss   dfl_loss  Instances       Size\n"
     ]
    },
    {
     "name": "stderr",
     "output_type": "stream",
     "text": [
      "     16/100      2.39G      1.007      2.378      1.098          4        640: 100%|██████████| 27/27\n",
      "                 Class     Images  Instances      Box(P          R      mAP50  mAP50-95): 100%|██████"
     ]
    },
    {
     "name": "stdout",
     "output_type": "stream",
     "text": [
      "                   all         91         24      0.253          1       0.41      0.336\n"
     ]
    },
    {
     "name": "stderr",
     "output_type": "stream",
     "text": [
      "\n"
     ]
    },
    {
     "name": "stdout",
     "output_type": "stream",
     "text": [
      "\n",
      "      Epoch    GPU_mem   box_loss   cls_loss   dfl_loss  Instances       Size\n"
     ]
    },
    {
     "name": "stderr",
     "output_type": "stream",
     "text": [
      "     17/100      2.38G     0.9217      2.102      1.005          4        640: 100%|██████████| 27/27\n",
      "                 Class     Images  Instances      Box(P          R      mAP50  mAP50-95): 100%|██████"
     ]
    },
    {
     "name": "stdout",
     "output_type": "stream",
     "text": [
      "                   all         91         24      0.323      0.768       0.46      0.386\n"
     ]
    },
    {
     "name": "stderr",
     "output_type": "stream",
     "text": [
      "\n"
     ]
    },
    {
     "name": "stdout",
     "output_type": "stream",
     "text": [
      "\n",
      "      Epoch    GPU_mem   box_loss   cls_loss   dfl_loss  Instances       Size\n"
     ]
    },
    {
     "name": "stderr",
     "output_type": "stream",
     "text": [
      "     18/100      2.38G     0.9176      1.901      1.025          4        640: 100%|██████████| 27/27\n",
      "                 Class     Images  Instances      Box(P          R      mAP50  mAP50-95): 100%|██████"
     ]
    },
    {
     "name": "stdout",
     "output_type": "stream",
     "text": [
      "                   all         91         24       0.24      0.969      0.437      0.371\n"
     ]
    },
    {
     "name": "stderr",
     "output_type": "stream",
     "text": [
      "\n"
     ]
    },
    {
     "name": "stdout",
     "output_type": "stream",
     "text": [
      "\n",
      "      Epoch    GPU_mem   box_loss   cls_loss   dfl_loss  Instances       Size\n"
     ]
    },
    {
     "name": "stderr",
     "output_type": "stream",
     "text": [
      "     19/100      2.37G     0.9284      1.939      1.019          3        640: 100%|██████████| 27/27\n",
      "                 Class     Images  Instances      Box(P          R      mAP50  mAP50-95): 100%|██████"
     ]
    },
    {
     "name": "stdout",
     "output_type": "stream",
     "text": [
      "                   all         91         24      0.263      0.858      0.466      0.402\n"
     ]
    },
    {
     "name": "stderr",
     "output_type": "stream",
     "text": [
      "\n"
     ]
    },
    {
     "name": "stdout",
     "output_type": "stream",
     "text": [
      "\n",
      "      Epoch    GPU_mem   box_loss   cls_loss   dfl_loss  Instances       Size\n"
     ]
    },
    {
     "name": "stderr",
     "output_type": "stream",
     "text": [
      "     20/100      2.39G     0.8744      1.928      1.027          5        640: 100%|██████████| 27/27\n",
      "                 Class     Images  Instances      Box(P          R      mAP50  mAP50-95): 100%|██████"
     ]
    },
    {
     "name": "stdout",
     "output_type": "stream",
     "text": [
      "                   all         91         24      0.244      0.974      0.608      0.509\n"
     ]
    },
    {
     "name": "stderr",
     "output_type": "stream",
     "text": [
      "\n"
     ]
    },
    {
     "name": "stdout",
     "output_type": "stream",
     "text": [
      "\n",
      "      Epoch    GPU_mem   box_loss   cls_loss   dfl_loss  Instances       Size\n"
     ]
    },
    {
     "name": "stderr",
     "output_type": "stream",
     "text": [
      "     21/100      2.38G     0.8272      1.808     0.9693          1        640: 100%|██████████| 27/27\n",
      "                 Class     Images  Instances      Box(P          R      mAP50  mAP50-95): 100%|██████"
     ]
    },
    {
     "name": "stdout",
     "output_type": "stream",
     "text": [
      "                   all         91         24      0.269          1      0.586      0.515\n"
     ]
    },
    {
     "name": "stderr",
     "output_type": "stream",
     "text": [
      "\n"
     ]
    },
    {
     "name": "stdout",
     "output_type": "stream",
     "text": [
      "\n",
      "      Epoch    GPU_mem   box_loss   cls_loss   dfl_loss  Instances       Size\n"
     ]
    },
    {
     "name": "stderr",
     "output_type": "stream",
     "text": [
      "     22/100      2.38G     0.8312      1.858     0.9992          3        640: 100%|██████████| 27/27\n",
      "                 Class     Images  Instances      Box(P          R      mAP50  mAP50-95): 100%|██████"
     ]
    },
    {
     "name": "stdout",
     "output_type": "stream",
     "text": [
      "                   all         91         24       0.25          1      0.314      0.274\n"
     ]
    },
    {
     "name": "stderr",
     "output_type": "stream",
     "text": [
      "\n"
     ]
    },
    {
     "name": "stdout",
     "output_type": "stream",
     "text": [
      "\n",
      "      Epoch    GPU_mem   box_loss   cls_loss   dfl_loss  Instances       Size\n"
     ]
    },
    {
     "name": "stderr",
     "output_type": "stream",
     "text": [
      "     23/100      2.37G     0.8508      1.884      1.004          4        640: 100%|██████████| 27/27\n",
      "                 Class     Images  Instances      Box(P          R      mAP50  mAP50-95): 100%|██████"
     ]
    },
    {
     "name": "stdout",
     "output_type": "stream",
     "text": [
      "                   all         91         24      0.247          1      0.422      0.371\n"
     ]
    },
    {
     "name": "stderr",
     "output_type": "stream",
     "text": [
      "\n"
     ]
    },
    {
     "name": "stdout",
     "output_type": "stream",
     "text": [
      "\n",
      "      Epoch    GPU_mem   box_loss   cls_loss   dfl_loss  Instances       Size\n"
     ]
    },
    {
     "name": "stderr",
     "output_type": "stream",
     "text": [
      "     24/100      2.39G     0.8648      1.839      1.016          3        640: 100%|██████████| 27/27\n",
      "                 Class     Images  Instances      Box(P          R      mAP50  mAP50-95): 100%|██████"
     ]
    },
    {
     "name": "stdout",
     "output_type": "stream",
     "text": [
      "                   all         91         24      0.258      0.983      0.411      0.363\n"
     ]
    },
    {
     "name": "stderr",
     "output_type": "stream",
     "text": [
      "\n"
     ]
    },
    {
     "name": "stdout",
     "output_type": "stream",
     "text": [
      "\n",
      "      Epoch    GPU_mem   box_loss   cls_loss   dfl_loss  Instances       Size\n"
     ]
    },
    {
     "name": "stderr",
     "output_type": "stream",
     "text": [
      "     25/100      2.38G     0.8104      1.845     0.9883          5        640: 100%|██████████| 27/27\n",
      "                 Class     Images  Instances      Box(P          R      mAP50  mAP50-95): 100%|██████"
     ]
    },
    {
     "name": "stdout",
     "output_type": "stream",
     "text": [
      "                   all         91         24      0.245          1      0.457       0.39\n"
     ]
    },
    {
     "name": "stderr",
     "output_type": "stream",
     "text": [
      "\n"
     ]
    },
    {
     "name": "stdout",
     "output_type": "stream",
     "text": [
      "\n",
      "      Epoch    GPU_mem   box_loss   cls_loss   dfl_loss  Instances       Size\n"
     ]
    },
    {
     "name": "stderr",
     "output_type": "stream",
     "text": [
      "     26/100      2.38G     0.8496      1.688     0.9916          6        640: 100%|██████████| 27/27\n",
      "                 Class     Images  Instances      Box(P          R      mAP50  mAP50-95): 100%|██████"
     ]
    },
    {
     "name": "stdout",
     "output_type": "stream",
     "text": [
      "                   all         91         24      0.267      0.957      0.525       0.45\n"
     ]
    },
    {
     "name": "stderr",
     "output_type": "stream",
     "text": [
      "\n"
     ]
    },
    {
     "name": "stdout",
     "output_type": "stream",
     "text": [
      "\n",
      "      Epoch    GPU_mem   box_loss   cls_loss   dfl_loss  Instances       Size\n"
     ]
    },
    {
     "name": "stderr",
     "output_type": "stream",
     "text": [
      "     27/100      2.37G     0.7028      2.875     0.8985          3        640: 100%|██████████| 27/27\n",
      "                 Class     Images  Instances      Box(P          R      mAP50  mAP50-95): 100%|██████"
     ]
    },
    {
     "name": "stdout",
     "output_type": "stream",
     "text": [
      "                   all         91         24      0.262      0.857      0.448        0.4\n"
     ]
    },
    {
     "name": "stderr",
     "output_type": "stream",
     "text": [
      "\n"
     ]
    },
    {
     "name": "stdout",
     "output_type": "stream",
     "text": [
      "\n",
      "      Epoch    GPU_mem   box_loss   cls_loss   dfl_loss  Instances       Size\n"
     ]
    },
    {
     "name": "stderr",
     "output_type": "stream",
     "text": [
      "     28/100      2.39G     0.7932      1.723     0.9664          4        640: 100%|██████████| 27/27\n",
      "                 Class     Images  Instances      Box(P          R      mAP50  mAP50-95): 100%|██████"
     ]
    },
    {
     "name": "stdout",
     "output_type": "stream",
     "text": [
      "                   all         91         24      0.241      0.969      0.335       0.29\n"
     ]
    },
    {
     "name": "stderr",
     "output_type": "stream",
     "text": [
      "\n"
     ]
    },
    {
     "name": "stdout",
     "output_type": "stream",
     "text": [
      "\n",
      "      Epoch    GPU_mem   box_loss   cls_loss   dfl_loss  Instances       Size\n"
     ]
    },
    {
     "name": "stderr",
     "output_type": "stream",
     "text": [
      "     29/100      2.38G     0.7219      1.567     0.9541          3        640: 100%|██████████| 27/27\n",
      "                 Class     Images  Instances      Box(P          R      mAP50  mAP50-95): 100%|██████"
     ]
    },
    {
     "name": "stdout",
     "output_type": "stream",
     "text": [
      "                   all         91         24      0.327      0.893       0.48      0.439\n"
     ]
    },
    {
     "name": "stderr",
     "output_type": "stream",
     "text": [
      "\n"
     ]
    },
    {
     "name": "stdout",
     "output_type": "stream",
     "text": [
      "\n",
      "      Epoch    GPU_mem   box_loss   cls_loss   dfl_loss  Instances       Size\n"
     ]
    },
    {
     "name": "stderr",
     "output_type": "stream",
     "text": [
      "     30/100      2.38G     0.7084      1.673     0.9745          1        640: 100%|██████████| 27/27\n",
      "                 Class     Images  Instances      Box(P          R      mAP50  mAP50-95): 100%|██████"
     ]
    },
    {
     "name": "stdout",
     "output_type": "stream",
     "text": [
      "                   all         91         24      0.254      0.973      0.499      0.426\n"
     ]
    },
    {
     "name": "stderr",
     "output_type": "stream",
     "text": [
      "\n"
     ]
    },
    {
     "name": "stdout",
     "output_type": "stream",
     "text": [
      "\n",
      "      Epoch    GPU_mem   box_loss   cls_loss   dfl_loss  Instances       Size\n"
     ]
    },
    {
     "name": "stderr",
     "output_type": "stream",
     "text": [
      "     31/100      2.37G     0.7753      1.574     0.9994          3        640: 100%|██████████| 27/27\n",
      "                 Class     Images  Instances      Box(P          R      mAP50  mAP50-95): 100%|██████"
     ]
    },
    {
     "name": "stdout",
     "output_type": "stream",
     "text": [
      "                   all         91         24       0.28      0.768       0.48      0.428\n"
     ]
    },
    {
     "name": "stderr",
     "output_type": "stream",
     "text": [
      "\n"
     ]
    },
    {
     "name": "stdout",
     "output_type": "stream",
     "text": [
      "\n",
      "      Epoch    GPU_mem   box_loss   cls_loss   dfl_loss  Instances       Size\n"
     ]
    },
    {
     "name": "stderr",
     "output_type": "stream",
     "text": [
      "     32/100      2.39G     0.6843      1.548     0.9378          2        640: 100%|██████████| 27/27\n",
      "                 Class     Images  Instances      Box(P          R      mAP50  mAP50-95): 100%|██████"
     ]
    },
    {
     "name": "stdout",
     "output_type": "stream",
     "text": [
      "                   all         91         24      0.595       0.58       0.56      0.496\n"
     ]
    },
    {
     "name": "stderr",
     "output_type": "stream",
     "text": [
      "\n"
     ]
    },
    {
     "name": "stdout",
     "output_type": "stream",
     "text": [
      "\n",
      "      Epoch    GPU_mem   box_loss   cls_loss   dfl_loss  Instances       Size\n"
     ]
    },
    {
     "name": "stderr",
     "output_type": "stream",
     "text": [
      "     33/100      2.38G     0.7408      1.611     0.9478          3        640: 100%|██████████| 27/27\n",
      "                 Class     Images  Instances      Box(P          R      mAP50  mAP50-95): 100%|██████"
     ]
    },
    {
     "name": "stdout",
     "output_type": "stream",
     "text": [
      "                   all         91         24      0.284       0.81       0.56       0.48\n"
     ]
    },
    {
     "name": "stderr",
     "output_type": "stream",
     "text": [
      "\n"
     ]
    },
    {
     "name": "stdout",
     "output_type": "stream",
     "text": [
      "\n",
      "      Epoch    GPU_mem   box_loss   cls_loss   dfl_loss  Instances       Size\n"
     ]
    },
    {
     "name": "stderr",
     "output_type": "stream",
     "text": [
      "     34/100      2.38G     0.7527      1.575     0.9506          5        640: 100%|██████████| 27/27\n",
      "                 Class     Images  Instances      Box(P          R      mAP50  mAP50-95): 100%|██████"
     ]
    },
    {
     "name": "stdout",
     "output_type": "stream",
     "text": [
      "                   all         91         24      0.279        0.9      0.568      0.508\n"
     ]
    },
    {
     "name": "stderr",
     "output_type": "stream",
     "text": [
      "\n"
     ]
    },
    {
     "name": "stdout",
     "output_type": "stream",
     "text": [
      "\n",
      "      Epoch    GPU_mem   box_loss   cls_loss   dfl_loss  Instances       Size\n"
     ]
    },
    {
     "name": "stderr",
     "output_type": "stream",
     "text": [
      "     35/100      2.37G     0.6365      1.497     0.9155         10        640: 100%|██████████| 27/27\n",
      "                 Class     Images  Instances      Box(P          R      mAP50  mAP50-95): 100%|██████"
     ]
    },
    {
     "name": "stdout",
     "output_type": "stream",
     "text": [
      "                   all         91         24      0.249          1      0.531      0.481\n"
     ]
    },
    {
     "name": "stderr",
     "output_type": "stream",
     "text": [
      "\n"
     ]
    },
    {
     "name": "stdout",
     "output_type": "stream",
     "text": [
      "\n",
      "      Epoch    GPU_mem   box_loss   cls_loss   dfl_loss  Instances       Size\n"
     ]
    },
    {
     "name": "stderr",
     "output_type": "stream",
     "text": [
      "     36/100      2.39G     0.6608      1.789     0.9114          1        640: 100%|██████████| 27/27\n",
      "                 Class     Images  Instances      Box(P          R      mAP50  mAP50-95): 100%|██████"
     ]
    },
    {
     "name": "stdout",
     "output_type": "stream",
     "text": [
      "                   all         91         24      0.253      0.964      0.575      0.538\n"
     ]
    },
    {
     "name": "stderr",
     "output_type": "stream",
     "text": [
      "\n"
     ]
    },
    {
     "name": "stdout",
     "output_type": "stream",
     "text": [
      "\n",
      "      Epoch    GPU_mem   box_loss   cls_loss   dfl_loss  Instances       Size\n"
     ]
    },
    {
     "name": "stderr",
     "output_type": "stream",
     "text": [
      "     37/100      2.38G     0.6711      1.731     0.9482          3        640: 100%|██████████| 27/27\n",
      "                 Class     Images  Instances      Box(P          R      mAP50  mAP50-95): 100%|██████"
     ]
    },
    {
     "name": "stdout",
     "output_type": "stream",
     "text": [
      "                   all         91         24      0.282      0.887      0.535      0.486\n"
     ]
    },
    {
     "name": "stderr",
     "output_type": "stream",
     "text": [
      "\n"
     ]
    },
    {
     "name": "stdout",
     "output_type": "stream",
     "text": [
      "\n",
      "      Epoch    GPU_mem   box_loss   cls_loss   dfl_loss  Instances       Size\n"
     ]
    },
    {
     "name": "stderr",
     "output_type": "stream",
     "text": [
      "     38/100      2.38G     0.6601      1.549     0.9424          2        640: 100%|██████████| 27/27\n",
      "                 Class     Images  Instances      Box(P          R      mAP50  mAP50-95): 100%|██████"
     ]
    },
    {
     "name": "stdout",
     "output_type": "stream",
     "text": [
      "                   all         91         24      0.357      0.893      0.646      0.572\n"
     ]
    },
    {
     "name": "stderr",
     "output_type": "stream",
     "text": [
      "\n"
     ]
    },
    {
     "name": "stdout",
     "output_type": "stream",
     "text": [
      "\n",
      "      Epoch    GPU_mem   box_loss   cls_loss   dfl_loss  Instances       Size\n"
     ]
    },
    {
     "name": "stderr",
     "output_type": "stream",
     "text": [
      "     39/100      2.37G     0.6847      1.492     0.9419          2        640: 100%|██████████| 27/27\n",
      "                 Class     Images  Instances      Box(P          R      mAP50  mAP50-95): 100%|██████"
     ]
    },
    {
     "name": "stdout",
     "output_type": "stream",
     "text": [
      "                   all         91         24      0.465      0.765      0.735      0.641\n"
     ]
    },
    {
     "name": "stderr",
     "output_type": "stream",
     "text": [
      "\n"
     ]
    },
    {
     "name": "stdout",
     "output_type": "stream",
     "text": [
      "\n",
      "      Epoch    GPU_mem   box_loss   cls_loss   dfl_loss  Instances       Size\n"
     ]
    },
    {
     "name": "stderr",
     "output_type": "stream",
     "text": [
      "     40/100      2.39G     0.6019       1.38     0.9508          7        640: 100%|██████████| 27/27\n",
      "                 Class     Images  Instances      Box(P          R      mAP50  mAP50-95): 100%|██████"
     ]
    },
    {
     "name": "stdout",
     "output_type": "stream",
     "text": [
      "                   all         91         24      0.342      0.807      0.622      0.558\n"
     ]
    },
    {
     "name": "stderr",
     "output_type": "stream",
     "text": [
      "\n"
     ]
    },
    {
     "name": "stdout",
     "output_type": "stream",
     "text": [
      "\n",
      "      Epoch    GPU_mem   box_loss   cls_loss   dfl_loss  Instances       Size\n"
     ]
    },
    {
     "name": "stderr",
     "output_type": "stream",
     "text": [
      "     41/100      2.38G     0.6361      1.387     0.9225          6        640: 100%|██████████| 27/27\n",
      "                 Class     Images  Instances      Box(P          R      mAP50  mAP50-95): 100%|██████"
     ]
    },
    {
     "name": "stdout",
     "output_type": "stream",
     "text": [
      "                   all         91         24      0.484      0.854      0.673      0.591\n"
     ]
    },
    {
     "name": "stderr",
     "output_type": "stream",
     "text": [
      "\n"
     ]
    },
    {
     "name": "stdout",
     "output_type": "stream",
     "text": [
      "\n",
      "      Epoch    GPU_mem   box_loss   cls_loss   dfl_loss  Instances       Size\n"
     ]
    },
    {
     "name": "stderr",
     "output_type": "stream",
     "text": [
      "     42/100      2.38G     0.7102      1.916     0.9551          5        640: 100%|██████████| 27/27\n",
      "                 Class     Images  Instances      Box(P          R      mAP50  mAP50-95): 100%|██████"
     ]
    },
    {
     "name": "stdout",
     "output_type": "stream",
     "text": [
      "                   all         91         24      0.365      0.875      0.721      0.646\n"
     ]
    },
    {
     "name": "stderr",
     "output_type": "stream",
     "text": [
      "\n"
     ]
    },
    {
     "name": "stdout",
     "output_type": "stream",
     "text": [
      "\n",
      "      Epoch    GPU_mem   box_loss   cls_loss   dfl_loss  Instances       Size\n"
     ]
    },
    {
     "name": "stderr",
     "output_type": "stream",
     "text": [
      "     43/100      2.38G     0.6529      1.363     0.9495          4        640: 100%|██████████| 27/27\n",
      "                 Class     Images  Instances      Box(P          R      mAP50  mAP50-95): 100%|██████"
     ]
    },
    {
     "name": "stdout",
     "output_type": "stream",
     "text": [
      "                   all         91         24      0.261          1      0.458      0.417\n"
     ]
    },
    {
     "name": "stderr",
     "output_type": "stream",
     "text": [
      "\n"
     ]
    },
    {
     "name": "stdout",
     "output_type": "stream",
     "text": [
      "\n",
      "      Epoch    GPU_mem   box_loss   cls_loss   dfl_loss  Instances       Size\n"
     ]
    },
    {
     "name": "stderr",
     "output_type": "stream",
     "text": [
      "     44/100      2.39G     0.6413      1.436     0.9197          5        640: 100%|██████████| 27/27\n",
      "                 Class     Images  Instances      Box(P          R      mAP50  mAP50-95): 100%|██████"
     ]
    },
    {
     "name": "stdout",
     "output_type": "stream",
     "text": [
      "                   all         91         24      0.439      0.661      0.591      0.535\n"
     ]
    },
    {
     "name": "stderr",
     "output_type": "stream",
     "text": [
      "\n"
     ]
    },
    {
     "name": "stdout",
     "output_type": "stream",
     "text": [
      "\n",
      "      Epoch    GPU_mem   box_loss   cls_loss   dfl_loss  Instances       Size\n"
     ]
    },
    {
     "name": "stderr",
     "output_type": "stream",
     "text": [
      "     45/100      2.38G      0.617      1.396     0.9158          5        640: 100%|██████████| 27/27\n",
      "                 Class     Images  Instances      Box(P          R      mAP50  mAP50-95): 100%|██████"
     ]
    },
    {
     "name": "stdout",
     "output_type": "stream",
     "text": [
      "                   all         91         24      0.557      0.687      0.765      0.693\n"
     ]
    },
    {
     "name": "stderr",
     "output_type": "stream",
     "text": [
      "\n"
     ]
    },
    {
     "name": "stdout",
     "output_type": "stream",
     "text": [
      "\n",
      "      Epoch    GPU_mem   box_loss   cls_loss   dfl_loss  Instances       Size\n"
     ]
    },
    {
     "name": "stderr",
     "output_type": "stream",
     "text": [
      "     46/100      2.38G     0.6575      1.432     0.9292          5        640: 100%|██████████| 27/27\n",
      "                 Class     Images  Instances      Box(P          R      mAP50  mAP50-95): 100%|██████"
     ]
    },
    {
     "name": "stdout",
     "output_type": "stream",
     "text": [
      "                   all         91         24       0.61      0.754      0.754      0.716\n"
     ]
    },
    {
     "name": "stderr",
     "output_type": "stream",
     "text": [
      "\n"
     ]
    },
    {
     "name": "stdout",
     "output_type": "stream",
     "text": [
      "\n",
      "      Epoch    GPU_mem   box_loss   cls_loss   dfl_loss  Instances       Size\n"
     ]
    },
    {
     "name": "stderr",
     "output_type": "stream",
     "text": [
      "     47/100      2.37G     0.6146      1.405      0.922          2        640: 100%|██████████| 27/27\n",
      "                 Class     Images  Instances      Box(P          R      mAP50  mAP50-95): 100%|██████"
     ]
    },
    {
     "name": "stdout",
     "output_type": "stream",
     "text": [
      "                   all         91         24      0.658      0.649      0.732      0.668\n"
     ]
    },
    {
     "name": "stderr",
     "output_type": "stream",
     "text": [
      "\n"
     ]
    },
    {
     "name": "stdout",
     "output_type": "stream",
     "text": [
      "\n",
      "      Epoch    GPU_mem   box_loss   cls_loss   dfl_loss  Instances       Size\n"
     ]
    },
    {
     "name": "stderr",
     "output_type": "stream",
     "text": [
      "     48/100      2.39G     0.6125      1.354     0.9078          5        640: 100%|██████████| 27/27\n",
      "                 Class     Images  Instances      Box(P          R      mAP50  mAP50-95): 100%|██████"
     ]
    },
    {
     "name": "stdout",
     "output_type": "stream",
     "text": [
      "                   all         91         24      0.539      0.722      0.799      0.705\n"
     ]
    },
    {
     "name": "stderr",
     "output_type": "stream",
     "text": [
      "\n"
     ]
    },
    {
     "name": "stdout",
     "output_type": "stream",
     "text": [
      "\n",
      "      Epoch    GPU_mem   box_loss   cls_loss   dfl_loss  Instances       Size\n"
     ]
    },
    {
     "name": "stderr",
     "output_type": "stream",
     "text": [
      "     49/100      2.38G     0.6224      1.369     0.8895          7        640: 100%|██████████| 27/27\n",
      "                 Class     Images  Instances      Box(P          R      mAP50  mAP50-95): 100%|██████"
     ]
    },
    {
     "name": "stdout",
     "output_type": "stream",
     "text": [
      "                   all         91         24      0.522      0.925      0.743      0.685\n"
     ]
    },
    {
     "name": "stderr",
     "output_type": "stream",
     "text": [
      "\n"
     ]
    },
    {
     "name": "stdout",
     "output_type": "stream",
     "text": [
      "\n",
      "      Epoch    GPU_mem   box_loss   cls_loss   dfl_loss  Instances       Size\n"
     ]
    },
    {
     "name": "stderr",
     "output_type": "stream",
     "text": [
      "     50/100      2.38G     0.6005      1.343     0.9076          5        640: 100%|██████████| 27/27\n",
      "                 Class     Images  Instances      Box(P          R      mAP50  mAP50-95): 100%|██████"
     ]
    },
    {
     "name": "stdout",
     "output_type": "stream",
     "text": [
      "                   all         91         24      0.267      0.917      0.627      0.555\n"
     ]
    },
    {
     "name": "stderr",
     "output_type": "stream",
     "text": [
      "\n"
     ]
    },
    {
     "name": "stdout",
     "output_type": "stream",
     "text": [
      "\n",
      "      Epoch    GPU_mem   box_loss   cls_loss   dfl_loss  Instances       Size\n"
     ]
    },
    {
     "name": "stderr",
     "output_type": "stream",
     "text": [
      "     51/100      2.37G     0.5279      1.253       0.88          2        640: 100%|██████████| 27/27\n",
      "                 Class     Images  Instances      Box(P          R      mAP50  mAP50-95): 100%|██████"
     ]
    },
    {
     "name": "stdout",
     "output_type": "stream",
     "text": [
      "                   all         91         24      0.503      0.656      0.686      0.642\n"
     ]
    },
    {
     "name": "stderr",
     "output_type": "stream",
     "text": [
      "\n"
     ]
    },
    {
     "name": "stdout",
     "output_type": "stream",
     "text": [
      "\n",
      "      Epoch    GPU_mem   box_loss   cls_loss   dfl_loss  Instances       Size\n"
     ]
    },
    {
     "name": "stderr",
     "output_type": "stream",
     "text": [
      "     52/100      2.39G     0.5517      1.117     0.8839          3        640: 100%|██████████| 27/27\n",
      "                 Class     Images  Instances      Box(P          R      mAP50  mAP50-95): 100%|██████"
     ]
    },
    {
     "name": "stdout",
     "output_type": "stream",
     "text": [
      "                   all         91         24      0.688      0.831      0.873      0.813\n"
     ]
    },
    {
     "name": "stderr",
     "output_type": "stream",
     "text": [
      "\n"
     ]
    },
    {
     "name": "stdout",
     "output_type": "stream",
     "text": [
      "\n",
      "      Epoch    GPU_mem   box_loss   cls_loss   dfl_loss  Instances       Size\n"
     ]
    },
    {
     "name": "stderr",
     "output_type": "stream",
     "text": [
      "     53/100      2.38G     0.5959       1.25     0.9155          6        640: 100%|██████████| 27/27\n",
      "                 Class     Images  Instances      Box(P          R      mAP50  mAP50-95): 100%|██████"
     ]
    },
    {
     "name": "stdout",
     "output_type": "stream",
     "text": [
      "                   all         91         24      0.755       0.82      0.903      0.851\n"
     ]
    },
    {
     "name": "stderr",
     "output_type": "stream",
     "text": [
      "\n"
     ]
    },
    {
     "name": "stdout",
     "output_type": "stream",
     "text": [
      "\n",
      "      Epoch    GPU_mem   box_loss   cls_loss   dfl_loss  Instances       Size\n"
     ]
    },
    {
     "name": "stderr",
     "output_type": "stream",
     "text": [
      "     54/100      2.38G     0.5521      1.263     0.9113          7        640: 100%|██████████| 27/27\n",
      "                 Class     Images  Instances      Box(P          R      mAP50  mAP50-95): 100%|██████"
     ]
    },
    {
     "name": "stdout",
     "output_type": "stream",
     "text": [
      "                   all         91         24      0.516      0.771      0.741      0.713\n"
     ]
    },
    {
     "name": "stderr",
     "output_type": "stream",
     "text": [
      "\n"
     ]
    },
    {
     "name": "stdout",
     "output_type": "stream",
     "text": [
      "\n",
      "      Epoch    GPU_mem   box_loss   cls_loss   dfl_loss  Instances       Size\n"
     ]
    },
    {
     "name": "stderr",
     "output_type": "stream",
     "text": [
      "     55/100      2.37G     0.5416      1.188     0.9122          3        640: 100%|██████████| 27/27\n",
      "                 Class     Images  Instances      Box(P          R      mAP50  mAP50-95): 100%|██████"
     ]
    },
    {
     "name": "stdout",
     "output_type": "stream",
     "text": [
      "                   all         91         24      0.635          1      0.831      0.755\n"
     ]
    },
    {
     "name": "stderr",
     "output_type": "stream",
     "text": [
      "\n"
     ]
    },
    {
     "name": "stdout",
     "output_type": "stream",
     "text": [
      "\n",
      "      Epoch    GPU_mem   box_loss   cls_loss   dfl_loss  Instances       Size\n"
     ]
    },
    {
     "name": "stderr",
     "output_type": "stream",
     "text": [
      "     56/100      2.39G     0.5177      1.182     0.8819          5        640: 100%|██████████| 27/27\n",
      "                 Class     Images  Instances      Box(P          R      mAP50  mAP50-95): 100%|██████"
     ]
    },
    {
     "name": "stdout",
     "output_type": "stream",
     "text": [
      "                   all         91         24      0.674      0.712      0.842      0.807\n"
     ]
    },
    {
     "name": "stderr",
     "output_type": "stream",
     "text": [
      "\n"
     ]
    },
    {
     "name": "stdout",
     "output_type": "stream",
     "text": [
      "\n",
      "      Epoch    GPU_mem   box_loss   cls_loss   dfl_loss  Instances       Size\n"
     ]
    },
    {
     "name": "stderr",
     "output_type": "stream",
     "text": [
      "     57/100      2.38G     0.5527      1.097     0.9042          4        640: 100%|██████████| 27/27\n",
      "                 Class     Images  Instances      Box(P          R      mAP50  mAP50-95): 100%|██████"
     ]
    },
    {
     "name": "stdout",
     "output_type": "stream",
     "text": [
      "                   all         91         24      0.397      0.953      0.782      0.728\n"
     ]
    },
    {
     "name": "stderr",
     "output_type": "stream",
     "text": [
      "\n"
     ]
    },
    {
     "name": "stdout",
     "output_type": "stream",
     "text": [
      "\n",
      "      Epoch    GPU_mem   box_loss   cls_loss   dfl_loss  Instances       Size\n"
     ]
    },
    {
     "name": "stderr",
     "output_type": "stream",
     "text": [
      "     58/100      2.38G     0.5487      1.195     0.8973          5        640: 100%|██████████| 27/27\n",
      "                 Class     Images  Instances      Box(P          R      mAP50  mAP50-95): 100%|██████"
     ]
    },
    {
     "name": "stdout",
     "output_type": "stream",
     "text": [
      "                   all         91         24      0.724      0.737      0.804       0.76\n"
     ]
    },
    {
     "name": "stderr",
     "output_type": "stream",
     "text": [
      "\n"
     ]
    },
    {
     "name": "stdout",
     "output_type": "stream",
     "text": [
      "\n",
      "      Epoch    GPU_mem   box_loss   cls_loss   dfl_loss  Instances       Size\n"
     ]
    },
    {
     "name": "stderr",
     "output_type": "stream",
     "text": [
      "     59/100      2.37G     0.5992      1.297     0.9233          2        640: 100%|██████████| 27/27\n",
      "                 Class     Images  Instances      Box(P          R      mAP50  mAP50-95): 100%|██████"
     ]
    },
    {
     "name": "stdout",
     "output_type": "stream",
     "text": [
      "                   all         91         24      0.446      0.964      0.821      0.773\n"
     ]
    },
    {
     "name": "stderr",
     "output_type": "stream",
     "text": [
      "\n"
     ]
    },
    {
     "name": "stdout",
     "output_type": "stream",
     "text": [
      "\n",
      "      Epoch    GPU_mem   box_loss   cls_loss   dfl_loss  Instances       Size\n"
     ]
    },
    {
     "name": "stderr",
     "output_type": "stream",
     "text": [
      "     60/100      2.39G     0.5189      1.351     0.8956          3        640: 100%|██████████| 27/27\n",
      "                 Class     Images  Instances      Box(P          R      mAP50  mAP50-95): 100%|██████"
     ]
    },
    {
     "name": "stdout",
     "output_type": "stream",
     "text": [
      "                   all         91         24      0.695      0.975      0.875      0.804\n"
     ]
    },
    {
     "name": "stderr",
     "output_type": "stream",
     "text": [
      "\n"
     ]
    },
    {
     "name": "stdout",
     "output_type": "stream",
     "text": [
      "\n",
      "      Epoch    GPU_mem   box_loss   cls_loss   dfl_loss  Instances       Size\n"
     ]
    },
    {
     "name": "stderr",
     "output_type": "stream",
     "text": [
      "     61/100      2.38G     0.5088      1.094     0.8964          4        640: 100%|██████████| 27/27\n",
      "                 Class     Images  Instances      Box(P          R      mAP50  mAP50-95): 100%|██████"
     ]
    },
    {
     "name": "stdout",
     "output_type": "stream",
     "text": [
      "                   all         91         24      0.708      0.938      0.902      0.841\n"
     ]
    },
    {
     "name": "stderr",
     "output_type": "stream",
     "text": [
      "\n"
     ]
    },
    {
     "name": "stdout",
     "output_type": "stream",
     "text": [
      "\n",
      "      Epoch    GPU_mem   box_loss   cls_loss   dfl_loss  Instances       Size\n"
     ]
    },
    {
     "name": "stderr",
     "output_type": "stream",
     "text": [
      "     62/100      2.38G     0.5431      1.392     0.9148          5        640: 100%|██████████| 27/27\n",
      "                 Class     Images  Instances      Box(P          R      mAP50  mAP50-95): 100%|██████"
     ]
    },
    {
     "name": "stdout",
     "output_type": "stream",
     "text": [
      "                   all         91         24      0.806      0.739      0.886      0.819\n"
     ]
    },
    {
     "name": "stderr",
     "output_type": "stream",
     "text": [
      "\n"
     ]
    },
    {
     "name": "stdout",
     "output_type": "stream",
     "text": [
      "\n",
      "      Epoch    GPU_mem   box_loss   cls_loss   dfl_loss  Instances       Size\n"
     ]
    },
    {
     "name": "stderr",
     "output_type": "stream",
     "text": [
      "     63/100      2.37G     0.5306      1.289     0.8979          1        640: 100%|██████████| 27/27\n",
      "                 Class     Images  Instances      Box(P          R      mAP50  mAP50-95): 100%|██████"
     ]
    },
    {
     "name": "stdout",
     "output_type": "stream",
     "text": [
      "                   all         91         24      0.596      0.779      0.809      0.758\n"
     ]
    },
    {
     "name": "stderr",
     "output_type": "stream",
     "text": [
      "\n"
     ]
    },
    {
     "name": "stdout",
     "output_type": "stream",
     "text": [
      "\n",
      "      Epoch    GPU_mem   box_loss   cls_loss   dfl_loss  Instances       Size\n"
     ]
    },
    {
     "name": "stderr",
     "output_type": "stream",
     "text": [
      "     64/100      2.39G      0.501       1.18     0.8945          7        640: 100%|██████████| 27/27\n",
      "                 Class     Images  Instances      Box(P          R      mAP50  mAP50-95): 100%|██████"
     ]
    },
    {
     "name": "stdout",
     "output_type": "stream",
     "text": [
      "                   all         91         24      0.424      0.843      0.691      0.639\n"
     ]
    },
    {
     "name": "stderr",
     "output_type": "stream",
     "text": [
      "\n"
     ]
    },
    {
     "name": "stdout",
     "output_type": "stream",
     "text": [
      "\n",
      "      Epoch    GPU_mem   box_loss   cls_loss   dfl_loss  Instances       Size\n"
     ]
    },
    {
     "name": "stderr",
     "output_type": "stream",
     "text": [
      "     65/100      2.38G     0.4942      1.072      0.878          7        640: 100%|██████████| 27/27\n",
      "                 Class     Images  Instances      Box(P          R      mAP50  mAP50-95): 100%|██████"
     ]
    },
    {
     "name": "stdout",
     "output_type": "stream",
     "text": [
      "                   all         91         24      0.288      0.845      0.479      0.441\n"
     ]
    },
    {
     "name": "stderr",
     "output_type": "stream",
     "text": [
      "\n"
     ]
    },
    {
     "name": "stdout",
     "output_type": "stream",
     "text": [
      "\n",
      "      Epoch    GPU_mem   box_loss   cls_loss   dfl_loss  Instances       Size\n"
     ]
    },
    {
     "name": "stderr",
     "output_type": "stream",
     "text": [
      "     66/100      2.38G      0.471      1.082     0.8742          5        640: 100%|██████████| 27/27\n",
      "                 Class     Images  Instances      Box(P          R      mAP50  mAP50-95): 100%|██████"
     ]
    },
    {
     "name": "stdout",
     "output_type": "stream",
     "text": [
      "                   all         91         24      0.382      0.893      0.794      0.738\n"
     ]
    },
    {
     "name": "stderr",
     "output_type": "stream",
     "text": [
      "\n"
     ]
    },
    {
     "name": "stdout",
     "output_type": "stream",
     "text": [
      "\n",
      "      Epoch    GPU_mem   box_loss   cls_loss   dfl_loss  Instances       Size\n"
     ]
    },
    {
     "name": "stderr",
     "output_type": "stream",
     "text": [
      "     67/100      2.38G     0.5026      1.142     0.8861          6        640: 100%|██████████| 27/27\n",
      "                 Class     Images  Instances      Box(P          R      mAP50  mAP50-95): 100%|██████"
     ]
    },
    {
     "name": "stdout",
     "output_type": "stream",
     "text": [
      "                   all         91         24      0.676      0.812      0.921      0.871\n"
     ]
    },
    {
     "name": "stderr",
     "output_type": "stream",
     "text": [
      "\n"
     ]
    },
    {
     "name": "stdout",
     "output_type": "stream",
     "text": [
      "\n",
      "      Epoch    GPU_mem   box_loss   cls_loss   dfl_loss  Instances       Size\n"
     ]
    },
    {
     "name": "stderr",
     "output_type": "stream",
     "text": [
      "     68/100      2.39G     0.4843      1.052     0.8989          9        640: 100%|██████████| 27/27\n",
      "                 Class     Images  Instances      Box(P          R      mAP50  mAP50-95): 100%|██████"
     ]
    },
    {
     "name": "stdout",
     "output_type": "stream",
     "text": [
      "                   all         91         24       0.47      0.879      0.821      0.793\n"
     ]
    },
    {
     "name": "stderr",
     "output_type": "stream",
     "text": [
      "\n"
     ]
    },
    {
     "name": "stdout",
     "output_type": "stream",
     "text": [
      "\n",
      "      Epoch    GPU_mem   box_loss   cls_loss   dfl_loss  Instances       Size\n"
     ]
    },
    {
     "name": "stderr",
     "output_type": "stream",
     "text": [
      "     69/100      2.38G     0.4671     0.9954     0.8998          5        640: 100%|██████████| 27/27\n",
      "                 Class     Images  Instances      Box(P          R      mAP50  mAP50-95): 100%|██████"
     ]
    },
    {
     "name": "stdout",
     "output_type": "stream",
     "text": [
      "                   all         91         24      0.941      0.726      0.907       0.85\n"
     ]
    },
    {
     "name": "stderr",
     "output_type": "stream",
     "text": [
      "\n"
     ]
    },
    {
     "name": "stdout",
     "output_type": "stream",
     "text": [
      "\n",
      "      Epoch    GPU_mem   box_loss   cls_loss   dfl_loss  Instances       Size\n"
     ]
    },
    {
     "name": "stderr",
     "output_type": "stream",
     "text": [
      "     70/100      2.38G     0.4823      1.072     0.8769          2        640: 100%|██████████| 27/27\n",
      "                 Class     Images  Instances      Box(P          R      mAP50  mAP50-95): 100%|██████"
     ]
    },
    {
     "name": "stdout",
     "output_type": "stream",
     "text": [
      "                   all         91         24      0.638      0.975      0.924      0.866\n"
     ]
    },
    {
     "name": "stderr",
     "output_type": "stream",
     "text": [
      "\n"
     ]
    },
    {
     "name": "stdout",
     "output_type": "stream",
     "text": [
      "\n",
      "      Epoch    GPU_mem   box_loss   cls_loss   dfl_loss  Instances       Size\n"
     ]
    },
    {
     "name": "stderr",
     "output_type": "stream",
     "text": [
      "     71/100      2.37G     0.4988      1.027     0.8627          3        640: 100%|██████████| 27/27\n",
      "                 Class     Images  Instances      Box(P          R      mAP50  mAP50-95): 100%|██████"
     ]
    },
    {
     "name": "stdout",
     "output_type": "stream",
     "text": [
      "                   all         91         24      0.456          1      0.931       0.87\n"
     ]
    },
    {
     "name": "stderr",
     "output_type": "stream",
     "text": [
      "\n"
     ]
    },
    {
     "name": "stdout",
     "output_type": "stream",
     "text": [
      "\n",
      "      Epoch    GPU_mem   box_loss   cls_loss   dfl_loss  Instances       Size\n"
     ]
    },
    {
     "name": "stderr",
     "output_type": "stream",
     "text": [
      "     72/100      2.39G     0.4498     0.9359     0.8931          6        640: 100%|██████████| 27/27\n",
      "                 Class     Images  Instances      Box(P          R      mAP50  mAP50-95): 100%|██████\n"
     ]
    },
    {
     "name": "stdout",
     "output_type": "stream",
     "text": [
      "                   all         91         24      0.473          1      0.925      0.895\n",
      "\n",
      "      Epoch    GPU_mem   box_loss   cls_loss   dfl_loss  Instances       Size\n"
     ]
    },
    {
     "name": "stderr",
     "output_type": "stream",
     "text": [
      "     73/100      2.38G     0.4396      1.159     0.8503          4        640: 100%|██████████| 27/27\n",
      "                 Class     Images  Instances      Box(P          R      mAP50  mAP50-95): 100%|██████"
     ]
    },
    {
     "name": "stdout",
     "output_type": "stream",
     "text": [
      "                   all         91         24       0.57       0.95      0.946      0.872\n"
     ]
    },
    {
     "name": "stderr",
     "output_type": "stream",
     "text": [
      "\n"
     ]
    },
    {
     "name": "stdout",
     "output_type": "stream",
     "text": [
      "\n",
      "      Epoch    GPU_mem   box_loss   cls_loss   dfl_loss  Instances       Size\n"
     ]
    },
    {
     "name": "stderr",
     "output_type": "stream",
     "text": [
      "     74/100      2.38G     0.4017     0.9189     0.8536          5        640: 100%|██████████| 27/27\n",
      "                 Class     Images  Instances      Box(P          R      mAP50  mAP50-95): 100%|██████"
     ]
    },
    {
     "name": "stdout",
     "output_type": "stream",
     "text": [
      "                   all         91         24      0.629      0.945      0.921      0.891\n"
     ]
    },
    {
     "name": "stderr",
     "output_type": "stream",
     "text": [
      "\n"
     ]
    },
    {
     "name": "stdout",
     "output_type": "stream",
     "text": [
      "\n",
      "      Epoch    GPU_mem   box_loss   cls_loss   dfl_loss  Instances       Size\n"
     ]
    },
    {
     "name": "stderr",
     "output_type": "stream",
     "text": [
      "     75/100      2.37G     0.4259     0.9348     0.8598          5        640: 100%|██████████| 27/27\n",
      "                 Class     Images  Instances      Box(P          R      mAP50  mAP50-95): 100%|██████"
     ]
    },
    {
     "name": "stdout",
     "output_type": "stream",
     "text": [
      "                   all         91         24      0.367      0.929      0.838      0.778\n"
     ]
    },
    {
     "name": "stderr",
     "output_type": "stream",
     "text": [
      "\n"
     ]
    },
    {
     "name": "stdout",
     "output_type": "stream",
     "text": [
      "\n",
      "      Epoch    GPU_mem   box_loss   cls_loss   dfl_loss  Instances       Size\n"
     ]
    },
    {
     "name": "stderr",
     "output_type": "stream",
     "text": [
      "     76/100      2.39G     0.4641      0.963     0.8647          3        640: 100%|██████████| 27/27\n",
      "                 Class     Images  Instances      Box(P          R      mAP50  mAP50-95): 100%|██████"
     ]
    },
    {
     "name": "stdout",
     "output_type": "stream",
     "text": [
      "                   all         91         24      0.516      0.872      0.844      0.792\n"
     ]
    },
    {
     "name": "stderr",
     "output_type": "stream",
     "text": [
      "\n"
     ]
    },
    {
     "name": "stdout",
     "output_type": "stream",
     "text": [
      "\n",
      "      Epoch    GPU_mem   box_loss   cls_loss   dfl_loss  Instances       Size\n"
     ]
    },
    {
     "name": "stderr",
     "output_type": "stream",
     "text": [
      "     77/100      2.38G     0.4373     0.9988     0.8662          4        640: 100%|██████████| 27/27\n",
      "                 Class     Images  Instances      Box(P          R      mAP50  mAP50-95): 100%|██████"
     ]
    },
    {
     "name": "stdout",
     "output_type": "stream",
     "text": [
      "                   all         91         24      0.504      0.951      0.836      0.775\n"
     ]
    },
    {
     "name": "stderr",
     "output_type": "stream",
     "text": [
      "\n"
     ]
    },
    {
     "name": "stdout",
     "output_type": "stream",
     "text": [
      "\n",
      "      Epoch    GPU_mem   box_loss   cls_loss   dfl_loss  Instances       Size\n"
     ]
    },
    {
     "name": "stderr",
     "output_type": "stream",
     "text": [
      "     78/100      2.38G     0.4437     0.9952     0.8847          5        640: 100%|██████████| 27/27\n",
      "                 Class     Images  Instances      Box(P          R      mAP50  mAP50-95): 100%|██████"
     ]
    },
    {
     "name": "stdout",
     "output_type": "stream",
     "text": [
      "                   all         91         24      0.507      0.583      0.561      0.522\n"
     ]
    },
    {
     "name": "stderr",
     "output_type": "stream",
     "text": [
      "\n"
     ]
    },
    {
     "name": "stdout",
     "output_type": "stream",
     "text": [
      "\n",
      "      Epoch    GPU_mem   box_loss   cls_loss   dfl_loss  Instances       Size\n"
     ]
    },
    {
     "name": "stderr",
     "output_type": "stream",
     "text": [
      "     79/100      2.38G     0.4717      1.037     0.8903          5        640: 100%|██████████| 27/27\n",
      "                 Class     Images  Instances      Box(P          R      mAP50  mAP50-95): 100%|██████"
     ]
    },
    {
     "name": "stdout",
     "output_type": "stream",
     "text": [
      "                   all         91         24      0.318       0.83      0.631      0.596\n"
     ]
    },
    {
     "name": "stderr",
     "output_type": "stream",
     "text": [
      "\n"
     ]
    },
    {
     "name": "stdout",
     "output_type": "stream",
     "text": [
      "\n",
      "      Epoch    GPU_mem   box_loss   cls_loss   dfl_loss  Instances       Size\n"
     ]
    },
    {
     "name": "stderr",
     "output_type": "stream",
     "text": [
      "     80/100      2.39G     0.4297     0.8206     0.8608          5        640: 100%|██████████| 27/27\n",
      "                 Class     Images  Instances      Box(P          R      mAP50  mAP50-95): 100%|██████"
     ]
    },
    {
     "name": "stdout",
     "output_type": "stream",
     "text": [
      "                   all         91         24      0.362      0.938      0.861      0.799\n"
     ]
    },
    {
     "name": "stderr",
     "output_type": "stream",
     "text": [
      "\n"
     ]
    },
    {
     "name": "stdout",
     "output_type": "stream",
     "text": [
      "\n",
      "      Epoch    GPU_mem   box_loss   cls_loss   dfl_loss  Instances       Size\n"
     ]
    },
    {
     "name": "stderr",
     "output_type": "stream",
     "text": [
      "     81/100      2.38G     0.4055     0.7876     0.8525          6        640: 100%|██████████| 27/27\n",
      "                 Class     Images  Instances      Box(P          R      mAP50  mAP50-95): 100%|██████"
     ]
    },
    {
     "name": "stdout",
     "output_type": "stream",
     "text": [
      "                   all         91         24       0.51      0.976      0.875      0.822\n"
     ]
    },
    {
     "name": "stderr",
     "output_type": "stream",
     "text": [
      "\n"
     ]
    },
    {
     "name": "stdout",
     "output_type": "stream",
     "text": [
      "\n",
      "      Epoch    GPU_mem   box_loss   cls_loss   dfl_loss  Instances       Size\n"
     ]
    },
    {
     "name": "stderr",
     "output_type": "stream",
     "text": [
      "     82/100      2.38G     0.3789     0.9367     0.8412          5        640: 100%|██████████| 27/27\n",
      "                 Class     Images  Instances      Box(P          R      mAP50  mAP50-95): 100%|██████"
     ]
    },
    {
     "name": "stdout",
     "output_type": "stream",
     "text": [
      "                   all         91         24      0.535          1      0.905      0.867\n"
     ]
    },
    {
     "name": "stderr",
     "output_type": "stream",
     "text": [
      "\n"
     ]
    },
    {
     "name": "stdout",
     "output_type": "stream",
     "text": [
      "\n",
      "      Epoch    GPU_mem   box_loss   cls_loss   dfl_loss  Instances       Size\n"
     ]
    },
    {
     "name": "stderr",
     "output_type": "stream",
     "text": [
      "     83/100      2.38G     0.4215     0.8991     0.8745          5        640: 100%|██████████| 27/27\n",
      "                 Class     Images  Instances      Box(P          R      mAP50  mAP50-95): 100%|██████"
     ]
    },
    {
     "name": "stdout",
     "output_type": "stream",
     "text": [
      "                   all         91         24      0.617      0.952       0.94      0.895\n"
     ]
    },
    {
     "name": "stderr",
     "output_type": "stream",
     "text": [
      "\n"
     ]
    },
    {
     "name": "stdout",
     "output_type": "stream",
     "text": [
      "\n",
      "      Epoch    GPU_mem   box_loss   cls_loss   dfl_loss  Instances       Size\n"
     ]
    },
    {
     "name": "stderr",
     "output_type": "stream",
     "text": [
      "     84/100      2.39G     0.3795     0.8613     0.8591          5        640: 100%|██████████| 27/27\n",
      "                 Class     Images  Instances      Box(P          R      mAP50  mAP50-95): 100%|██████"
     ]
    },
    {
     "name": "stdout",
     "output_type": "stream",
     "text": [
      "                   all         91         24      0.403      0.929      0.822      0.784\n"
     ]
    },
    {
     "name": "stderr",
     "output_type": "stream",
     "text": [
      "\n"
     ]
    },
    {
     "name": "stdout",
     "output_type": "stream",
     "text": [
      "\n",
      "      Epoch    GPU_mem   box_loss   cls_loss   dfl_loss  Instances       Size\n"
     ]
    },
    {
     "name": "stderr",
     "output_type": "stream",
     "text": [
      "     85/100      2.38G     0.4092     0.8351     0.8633         12        640: 100%|██████████| 27/27\n",
      "                 Class     Images  Instances      Box(P          R      mAP50  mAP50-95): 100%|██████"
     ]
    },
    {
     "name": "stdout",
     "output_type": "stream",
     "text": [
      "                   all         91         24      0.595      0.964      0.918      0.886\n"
     ]
    },
    {
     "name": "stderr",
     "output_type": "stream",
     "text": [
      "\n"
     ]
    },
    {
     "name": "stdout",
     "output_type": "stream",
     "text": [
      "\n",
      "      Epoch    GPU_mem   box_loss   cls_loss   dfl_loss  Instances       Size\n"
     ]
    },
    {
     "name": "stderr",
     "output_type": "stream",
     "text": [
      "     86/100      2.38G     0.3726     0.7712     0.8633          3        640: 100%|██████████| 27/27\n",
      "                 Class     Images  Instances      Box(P          R      mAP50  mAP50-95): 100%|██████"
     ]
    },
    {
     "name": "stdout",
     "output_type": "stream",
     "text": [
      "                   all         91         24      0.345      0.929      0.788      0.747\n"
     ]
    },
    {
     "name": "stderr",
     "output_type": "stream",
     "text": [
      "\n"
     ]
    },
    {
     "name": "stdout",
     "output_type": "stream",
     "text": [
      "\n",
      "      Epoch    GPU_mem   box_loss   cls_loss   dfl_loss  Instances       Size\n"
     ]
    },
    {
     "name": "stderr",
     "output_type": "stream",
     "text": [
      "     87/100      2.38G     0.3664     0.9105     0.8726          7        640: 100%|██████████| 27/27\n",
      "                 Class     Images  Instances      Box(P          R      mAP50  mAP50-95): 100%|██████"
     ]
    },
    {
     "name": "stdout",
     "output_type": "stream",
     "text": [
      "                   all         91         24      0.472      0.893      0.843      0.794\n"
     ]
    },
    {
     "name": "stderr",
     "output_type": "stream",
     "text": [
      "\n"
     ]
    },
    {
     "name": "stdout",
     "output_type": "stream",
     "text": [
      "\n",
      "      Epoch    GPU_mem   box_loss   cls_loss   dfl_loss  Instances       Size\n"
     ]
    },
    {
     "name": "stderr",
     "output_type": "stream",
     "text": [
      "     88/100      2.39G     0.3934     0.9012     0.8718          5        640: 100%|██████████| 27/27\n",
      "                 Class     Images  Instances      Box(P          R      mAP50  mAP50-95): 100%|██████"
     ]
    },
    {
     "name": "stdout",
     "output_type": "stream",
     "text": [
      "                   all         91         24      0.527      0.929        0.9       0.87\n"
     ]
    },
    {
     "name": "stderr",
     "output_type": "stream",
     "text": [
      "\n"
     ]
    },
    {
     "name": "stdout",
     "output_type": "stream",
     "text": [
      "\n",
      "      Epoch    GPU_mem   box_loss   cls_loss   dfl_loss  Instances       Size\n"
     ]
    },
    {
     "name": "stderr",
     "output_type": "stream",
     "text": [
      "     89/100      2.38G     0.4024     0.9319     0.8609          4        640: 100%|██████████| 27/27\n",
      "                 Class     Images  Instances      Box(P          R      mAP50  mAP50-95): 100%|██████"
     ]
    },
    {
     "name": "stdout",
     "output_type": "stream",
     "text": [
      "                   all         91         24      0.482      0.974      0.864      0.843\n"
     ]
    },
    {
     "name": "stderr",
     "output_type": "stream",
     "text": [
      "\n"
     ]
    },
    {
     "name": "stdout",
     "output_type": "stream",
     "text": [
      "\n",
      "      Epoch    GPU_mem   box_loss   cls_loss   dfl_loss  Instances       Size\n"
     ]
    },
    {
     "name": "stderr",
     "output_type": "stream",
     "text": [
      "     90/100      2.38G     0.3942     0.7921     0.8683          3        640: 100%|██████████| 27/27\n",
      "                 Class     Images  Instances      Box(P          R      mAP50  mAP50-95): 100%|██████"
     ]
    },
    {
     "name": "stdout",
     "output_type": "stream",
     "text": [
      "                   all         91         24      0.598      0.929      0.916      0.872\n"
     ]
    },
    {
     "name": "stderr",
     "output_type": "stream",
     "text": [
      "\n"
     ]
    },
    {
     "name": "stdout",
     "output_type": "stream",
     "text": [
      "Closing dataloader mosaic\n",
      "\u001b[34m\u001b[1malbumentations: \u001b[0mBlur(p=0.01, blur_limit=(3, 7)), MedianBlur(p=0.01, blur_limit=(3, 7)), ToGray(p=0.01, num_output_channels=3, method='weighted_average'), CLAHE(p=0.01, clip_limit=(1.0, 4.0), tile_grid_size=(8, 8))\n",
      "\n",
      "      Epoch    GPU_mem   box_loss   cls_loss   dfl_loss  Instances       Size\n"
     ]
    },
    {
     "name": "stderr",
     "output_type": "stream",
     "text": [
      "     91/100      2.37G     0.2386     0.7721     0.7845          2        640: 100%|██████████| 27/27\n",
      "                 Class     Images  Instances      Box(P          R      mAP50  mAP50-95): 100%|██████"
     ]
    },
    {
     "name": "stdout",
     "output_type": "stream",
     "text": [
      "                   all         91         24      0.592      0.929      0.911      0.878\n"
     ]
    },
    {
     "name": "stderr",
     "output_type": "stream",
     "text": [
      "\n"
     ]
    },
    {
     "name": "stdout",
     "output_type": "stream",
     "text": [
      "\n",
      "      Epoch    GPU_mem   box_loss   cls_loss   dfl_loss  Instances       Size\n"
     ]
    },
    {
     "name": "stderr",
     "output_type": "stream",
     "text": [
      "     92/100      2.39G     0.2469     0.7581      0.769          3        640: 100%|██████████| 27/27\n",
      "                 Class     Images  Instances      Box(P          R      mAP50  mAP50-95): 100%|██████"
     ]
    },
    {
     "name": "stdout",
     "output_type": "stream",
     "text": [
      "                   all         91         24       0.43      0.988      0.888      0.864\n"
     ]
    },
    {
     "name": "stderr",
     "output_type": "stream",
     "text": [
      "\n"
     ]
    },
    {
     "name": "stdout",
     "output_type": "stream",
     "text": [
      "\n",
      "      Epoch    GPU_mem   box_loss   cls_loss   dfl_loss  Instances       Size\n"
     ]
    },
    {
     "name": "stderr",
     "output_type": "stream",
     "text": [
      "     93/100      2.38G     0.2334       1.47     0.7588          4        640: 100%|██████████| 27/27\n",
      "                 Class     Images  Instances      Box(P          R      mAP50  mAP50-95): 100%|██████"
     ]
    },
    {
     "name": "stdout",
     "output_type": "stream",
     "text": [
      "                   all         91         24      0.385      0.964      0.869      0.839\n"
     ]
    },
    {
     "name": "stderr",
     "output_type": "stream",
     "text": [
      "\n"
     ]
    },
    {
     "name": "stdout",
     "output_type": "stream",
     "text": [
      "\n",
      "      Epoch    GPU_mem   box_loss   cls_loss   dfl_loss  Instances       Size\n"
     ]
    },
    {
     "name": "stderr",
     "output_type": "stream",
     "text": [
      "     94/100      2.38G     0.2277     0.6709     0.7712          3        640: 100%|██████████| 27/27\n",
      "                 Class     Images  Instances      Box(P          R      mAP50  mAP50-95): 100%|██████"
     ]
    },
    {
     "name": "stdout",
     "output_type": "stream",
     "text": [
      "                   all         91         24      0.416      0.974      0.911      0.903\n"
     ]
    },
    {
     "name": "stderr",
     "output_type": "stream",
     "text": [
      "\n"
     ]
    },
    {
     "name": "stdout",
     "output_type": "stream",
     "text": [
      "\n",
      "      Epoch    GPU_mem   box_loss   cls_loss   dfl_loss  Instances       Size\n"
     ]
    },
    {
     "name": "stderr",
     "output_type": "stream",
     "text": [
      "     95/100      2.37G     0.2054       2.27     0.7172          4        640: 100%|██████████| 27/27\n",
      "                 Class     Images  Instances      Box(P          R      mAP50  mAP50-95): 100%|██████"
     ]
    },
    {
     "name": "stdout",
     "output_type": "stream",
     "text": [
      "                   all         91         24      0.402      0.994      0.892      0.873\n"
     ]
    },
    {
     "name": "stderr",
     "output_type": "stream",
     "text": [
      "\n"
     ]
    },
    {
     "name": "stdout",
     "output_type": "stream",
     "text": [
      "\n",
      "      Epoch    GPU_mem   box_loss   cls_loss   dfl_loss  Instances       Size\n"
     ]
    },
    {
     "name": "stderr",
     "output_type": "stream",
     "text": [
      "     96/100      2.39G     0.2332     0.7278     0.7864          3        640: 100%|██████████| 27/27\n",
      "                 Class     Images  Instances      Box(P          R      mAP50  mAP50-95): 100%|██████"
     ]
    },
    {
     "name": "stdout",
     "output_type": "stream",
     "text": [
      "                   all         91         24       0.46      0.964      0.885      0.861\n"
     ]
    },
    {
     "name": "stderr",
     "output_type": "stream",
     "text": [
      "\n"
     ]
    },
    {
     "name": "stdout",
     "output_type": "stream",
     "text": [
      "\n",
      "      Epoch    GPU_mem   box_loss   cls_loss   dfl_loss  Instances       Size\n"
     ]
    },
    {
     "name": "stderr",
     "output_type": "stream",
     "text": [
      "     97/100      2.38G     0.2463     0.6574     0.7664          4        640: 100%|██████████| 27/27\n",
      "                 Class     Images  Instances      Box(P          R      mAP50  mAP50-95): 100%|██████"
     ]
    },
    {
     "name": "stdout",
     "output_type": "stream",
     "text": [
      "                   all         91         24      0.388      0.929      0.854      0.834\n"
     ]
    },
    {
     "name": "stderr",
     "output_type": "stream",
     "text": [
      "\n"
     ]
    },
    {
     "name": "stdout",
     "output_type": "stream",
     "text": [
      "\n",
      "      Epoch    GPU_mem   box_loss   cls_loss   dfl_loss  Instances       Size\n"
     ]
    },
    {
     "name": "stderr",
     "output_type": "stream",
     "text": [
      "     98/100      2.38G     0.2236     0.6894     0.7873          4        640: 100%|██████████| 27/27\n",
      "                 Class     Images  Instances      Box(P          R      mAP50  mAP50-95): 100%|██████"
     ]
    },
    {
     "name": "stdout",
     "output_type": "stream",
     "text": [
      "                   all         91         24       0.36      0.929      0.833      0.813\n"
     ]
    },
    {
     "name": "stderr",
     "output_type": "stream",
     "text": [
      "\n"
     ]
    },
    {
     "name": "stdout",
     "output_type": "stream",
     "text": [
      "\n",
      "      Epoch    GPU_mem   box_loss   cls_loss   dfl_loss  Instances       Size\n"
     ]
    },
    {
     "name": "stderr",
     "output_type": "stream",
     "text": [
      "     99/100      2.37G     0.2152     0.5442     0.7762          2        640: 100%|██████████| 27/27\n",
      "                 Class     Images  Instances      Box(P          R      mAP50  mAP50-95): 100%|██████"
     ]
    },
    {
     "name": "stdout",
     "output_type": "stream",
     "text": [
      "                   all         91         24      0.409      0.984      0.865      0.846\n"
     ]
    },
    {
     "name": "stderr",
     "output_type": "stream",
     "text": [
      "\n"
     ]
    },
    {
     "name": "stdout",
     "output_type": "stream",
     "text": [
      "\n",
      "      Epoch    GPU_mem   box_loss   cls_loss   dfl_loss  Instances       Size\n"
     ]
    },
    {
     "name": "stderr",
     "output_type": "stream",
     "text": [
      "    100/100      2.39G     0.2101      0.649     0.7945          3        640: 100%|██████████| 27/27\n",
      "                 Class     Images  Instances      Box(P          R      mAP50  mAP50-95): 100%|██████"
     ]
    },
    {
     "name": "stdout",
     "output_type": "stream",
     "text": [
      "                   all         91         24      0.471          1      0.898      0.878\n"
     ]
    },
    {
     "name": "stderr",
     "output_type": "stream",
     "text": [
      "\n"
     ]
    },
    {
     "name": "stdout",
     "output_type": "stream",
     "text": [
      "\n",
      "100 epochs completed in 0.174 hours.\n",
      "Optimizer stripped from runs\\detect\\train3\\weights\\last.pt, 5.5MB\n",
      "Optimizer stripped from runs\\detect\\train3\\weights\\best.pt, 5.5MB\n",
      "\n",
      "Validating runs\\detect\\train3\\weights\\best.pt...\n",
      "Ultralytics 8.3.6  Python-3.10.15 torch-2.4.1 CUDA:0 (NVIDIA GeForce RTX 3070 Laptop GPU, 8192MiB)\n",
      "YOLO11n summary (fused): 238 layers, 2,582,932 parameters, 0 gradients, 6.3 GFLOPs\n"
     ]
    },
    {
     "name": "stderr",
     "output_type": "stream",
     "text": [
      "                 Class     Images  Instances      Box(P          R      mAP50  mAP50-95): 100%|██████\n"
     ]
    },
    {
     "name": "stdout",
     "output_type": "stream",
     "text": [
      "                   all         91         24      0.423      0.964      0.919       0.91\n",
      "             chocoChip          4          4      0.303          1      0.945      0.945\n",
      "                 gomet          7          7      0.431      0.857      0.758      0.738\n",
      "          potatoCookie         10         10      0.556          1      0.978       0.96\n",
      "               sandAce          3          3      0.401          1      0.995      0.995\n",
      "Speed: 0.5ms preprocess, 2.3ms inference, 0.0ms loss, 1.6ms postprocess per image\n",
      "Results saved to \u001b[1mruns\\detect\\train3\u001b[0m\n"
     ]
    }
   ],
   "source": [
    "from ultralytics import YOLO\n",
    "\n",
    "# Load a model\n",
    "model = YOLO(\"yolo11n.pt\")  # load a pretrained model (recommended for training)\n",
    "\n",
    "# Train the model\n",
    "results = model.train(data=\"C:/Users/park0/yolov11/customData/data.yaml\", epochs=100, imgsz=640)"
   ]
  },
  {
   "cell_type": "code",
   "execution_count": null,
   "id": "72590e3a-ae6e-45af-82dd-e78702dbfd1c",
   "metadata": {},
   "outputs": [],
   "source": []
  }
 ],
 "metadata": {
  "kernelspec": {
   "display_name": "Python 3 (ipykernel)",
   "language": "python",
   "name": "python3"
  },
  "language_info": {
   "codemirror_mode": {
    "name": "ipython",
    "version": 3
   },
   "file_extension": ".py",
   "mimetype": "text/x-python",
   "name": "python",
   "nbconvert_exporter": "python",
   "pygments_lexer": "ipython3",
   "version": "3.10.15"
  }
 },
 "nbformat": 4,
 "nbformat_minor": 5
}
